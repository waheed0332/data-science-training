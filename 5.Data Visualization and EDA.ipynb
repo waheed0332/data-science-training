{
 "cells": [
  {
   "cell_type": "markdown",
   "id": "58aa4b95",
   "metadata": {},
   "source": [
    "# 1. Types of Variables"
   ]
  },
  {
   "cell_type": "markdown",
   "id": "2ad53ba1",
   "metadata": {},
   "source": [
    "Variables may be classified into two main categories: categorical and numeric. Each category is then classified in two subcategories: nominal or ordinal for categorical variables, discrete or continuous for numeric variables. These types are briefly outlined in this section."
   ]
  },
  {
   "cell_type": "markdown",
   "id": "5670dd0d",
   "metadata": {},
   "source": [
    "- **Nominal variables:** A nominal variable is one that describes a name, label or category without natural order. Sex and type of dwelling are examples of nominal variables.\n",
    "\n",
    "- **Ordinal variables:** An ordinal variable is a variable whose values are defined by an order relation between the different categories.\n",
    "\n",
    "- **Continuous variables:** A variable is said to be continuous if it can assume an infinite number of real values within a given interval. For instance, consider the height of a student.\n",
    "\n",
    "- **Discrete variables:** As opposed to a continuous variable, a discrete variable can assume only a finite number of real values within a given interval. An example of a discrete variable would be the score given by a judge to a gymnast in competition: the range is 0 to 10 and the score is always given to one decimal (e.g. a score of 8.5)."
   ]
  },
  {
   "cell_type": "markdown",
   "id": "36ad7205",
   "metadata": {},
   "source": [
    "![alt text](https://d1m75rqqgidzqn.cloudfront.net/wp-data/2022/06/01113127/types-of-data--1024x555.png \"Title\")"
   ]
  },
  {
   "cell_type": "markdown",
   "id": "63324cc3",
   "metadata": {},
   "source": [
    "# 2. Data Centricity (Mean, Modes, Median, Variance, STD, Distribution and Skewness, Interquantile Range, Outlier Detection)"
   ]
  },
  {
   "cell_type": "markdown",
   "id": "76ffa1ea",
   "metadata": {},
   "source": [
    "## 2.1. Mean"
   ]
  },
  {
   "cell_type": "markdown",
   "id": "b816086e",
   "metadata": {},
   "source": [
    "The most common expression for the mean of a statistical distribution with a discrete random variable is the mathematical average of all the terms. To calculate it, add up the values of all the terms and then divide by the number of terms.\n",
    "\n",
    "**The mean (µ) is a measure of central tendency of a distribution or discrete set of numbers.**"
   ]
  },
  {
   "cell_type": "code",
   "execution_count": 11,
   "id": "603fa3eb",
   "metadata": {},
   "outputs": [
    {
     "name": "stdout",
     "output_type": "stream",
     "text": [
      "Mean: 55\n"
     ]
    }
   ],
   "source": [
    "import statistics\n",
    "data = [10,20,30,40,50,60,70,80,90,100]\n",
    "print('Mean:', statistics.mean(data))"
   ]
  },
  {
   "cell_type": "markdown",
   "id": "972bcb6a",
   "metadata": {},
   "source": [
    "## 2.2. Mode"
   ]
  },
  {
   "cell_type": "markdown",
   "id": "9abfb518",
   "metadata": {},
   "source": [
    "The mode of a distribution with a discrete random variable is the value of the term that occurs the most often."
   ]
  },
  {
   "cell_type": "code",
   "execution_count": 12,
   "id": "b915de8f",
   "metadata": {},
   "outputs": [
    {
     "name": "stdout",
     "output_type": "stream",
     "text": [
      "Mean: 30\n"
     ]
    }
   ],
   "source": [
    "import statistics\n",
    "data = [10,20,30,10,50,30,70,30,90,30,100]\n",
    "print('Mean:', statistics.mode(data))"
   ]
  },
  {
   "cell_type": "markdown",
   "id": "95f2c684",
   "metadata": {},
   "source": [
    "## 2.3. Median"
   ]
  },
  {
   "cell_type": "markdown",
   "id": "11baffac",
   "metadata": {},
   "source": [
    "The median of a distribution with a discrete random variable depends on whether the number of terms in the distribution is even or odd. If the number of terms is odd, then the median is the value of the term in the middle. This is the value such that the number of terms having values greater than or equal to it is the same as the number of terms having values less than or equal to it. If the number of terms is even, then the median is the average of the two terms in the middle, such that the number of terms having values greater than or equal to it is the same as the number of terms having values less than or equal to it."
   ]
  },
  {
   "cell_type": "code",
   "execution_count": 13,
   "id": "24b16577",
   "metadata": {},
   "outputs": [
    {
     "name": "stdout",
     "output_type": "stream",
     "text": [
      "Median Odd Length: 60\n",
      "Median Even Length: 55.0\n"
     ]
    }
   ],
   "source": [
    "import statistics\n",
    "data = [10,20,30,40,50,60,70,80,90,100,110]\n",
    "print('Median Odd Length:', statistics.median(data))\n",
    "\n",
    "data = [10,20,30,40,50,60,70,80,90,100]\n",
    "print('Median Even Length:', statistics.median(data))"
   ]
  },
  {
   "cell_type": "markdown",
   "id": "9cac7669",
   "metadata": {},
   "source": [
    "## 2.4 Variance"
   ]
  },
  {
   "cell_type": "markdown",
   "id": "89e080e5",
   "metadata": {},
   "source": [
    "Variance is a numerical value that shows how widely the individual figures in a set of data distribute themselves about the mean and hence describes the difference of each value in the dataset from the mean value. **So if we have zero variance in a dataset we can state that all the values in it are identical.**\n",
    "\n",
    "More variance states the more spread of distribution away from mean and lower variance states less spread of distribution away from mean, but the variance can never be negative."
   ]
  },
  {
   "cell_type": "markdown",
   "id": "2bf96001",
   "metadata": {},
   "source": [
    "![https://www.3pillarglobal.com/wp-content/uploads/2016/04/mean-eq-1.png](https://www.3pillarglobal.com/wp-content/uploads/2016/04/mean-eq-1.png)"
   ]
  },
  {
   "cell_type": "code",
   "execution_count": 14,
   "id": "8d923e15",
   "metadata": {},
   "outputs": [
    {
     "name": "stdout",
     "output_type": "stream",
     "text": [
      "Mean: 102.5\n",
      "Difference from mean: [22.5, 17.5, 12.5, 7.5, 2.5, -2.5, -7.5, -12.5, -17.5, -22.5]\n",
      "Square of mean difference: [506.25, 306.25, 156.25, 56.25, 6.25, 6.25, 56.25, 156.25, 306.25, 506.25]\n",
      "Varience: 206.25\n"
     ]
    }
   ],
   "source": [
    "Age = [80, 85, 90, 95, 100, 105, 110, 115, 120, 125]\n",
    "\n",
    "#find mean first\n",
    "age_mean = statistics.mean(Age)\n",
    "print('Mean:', age_mean)\n",
    "\n",
    "# Find the Difference From the Mean\n",
    "diff_mean = [age_mean-x for x in Age]\n",
    "print('Difference from mean:', diff_mean)\n",
    "\n",
    "# Find square value of each mean difference\n",
    "square_mean_diff = [x**2 for x in diff_mean]\n",
    "print('Square of mean difference:', square_mean_diff)\n",
    "\n",
    "# Average Number of These Squared Values\n",
    "Varience = statistics.mean(square_mean_diff)\n",
    "print('Varience:', Varience)"
   ]
  },
  {
   "cell_type": "markdown",
   "id": "c35c71de",
   "metadata": {},
   "source": [
    "## 2.5. Standard Deviation (STD)"
   ]
  },
  {
   "cell_type": "markdown",
   "id": "631cc77a",
   "metadata": {},
   "source": [
    "In fact, if you take the square root of the variance, you get the standard deviation. Or the other way around, if you multiply the standard deviation by itself, you get the variance!"
   ]
  },
  {
   "cell_type": "code",
   "execution_count": 16,
   "id": "cff544f3",
   "metadata": {},
   "outputs": [
    {
     "name": "stdout",
     "output_type": "stream",
     "text": [
      "Standard Deviation: 14.361406616345072\n"
     ]
    }
   ],
   "source": [
    "print('Standard Deviation:', statistics.sqrt(Varience))"
   ]
  },
  {
   "cell_type": "markdown",
   "id": "04fdf099",
   "metadata": {},
   "source": [
    "**Both measures reflect variability in a distribution, but their units differ: Standard deviation is expressed in the same units as the original values**"
   ]
  },
  {
   "cell_type": "markdown",
   "id": "afe1e6ed",
   "metadata": {},
   "source": [
    "## 2.6 Normal Distribution, Skewness"
   ]
  },
  {
   "cell_type": "markdown",
   "id": "1cd125b8",
   "metadata": {},
   "source": [
    "### 2.6.1 Normal Distribution"
   ]
  },
  {
   "cell_type": "markdown",
   "id": "afc8e008",
   "metadata": {},
   "source": [
    "The normal distribution is a frequently observed continuous probability distribution"
   ]
  },
  {
   "cell_type": "markdown",
   "id": "a1eb3cf5",
   "metadata": {},
   "source": [
    "Normal distributions have the following features:\n",
    "\n",
    "- Symmetric bell shape\n",
    "- Mean and median are equal (at the center of the distribution)\n",
    "- ≈68% of the data falls within 1 standard deviation of the mean\n",
    "- ≈95% of the data falls within 2 standard deviations of the mean\n",
    "- ≈99.7% of the data falls within 3 standard deviations of the mean"
   ]
  },
  {
   "cell_type": "markdown",
   "id": "88552b05",
   "metadata": {},
   "source": [
    "![https://miro.medium.com/max/1440/0*8ZymFK4ust4AgKyc.png](https://miro.medium.com/max/1440/0*8ZymFK4ust4AgKyc.png)"
   ]
  },
  {
   "cell_type": "markdown",
   "id": "cb561194",
   "metadata": {},
   "source": [
    "### 2.6.2 Skewness"
   ]
  },
  {
   "cell_type": "markdown",
   "id": "972c0b46",
   "metadata": {},
   "source": [
    "Skewness is a measure of asymmetry relative to the mean"
   ]
  },
  {
   "cell_type": "markdown",
   "id": "a9eba4b0",
   "metadata": {},
   "source": [
    "**Positive skewed or right-skewed**"
   ]
  },
  {
   "cell_type": "markdown",
   "id": "f66d303e",
   "metadata": {},
   "source": [
    "![https://editor.analyticsvidhya.com/uploads/64710new_positive.png](https://editor.analyticsvidhya.com/uploads/64710new_positive.png)"
   ]
  },
  {
   "cell_type": "markdown",
   "id": "4ce53ece",
   "metadata": {},
   "source": [
    "**Negative skewed or left-skewed**"
   ]
  },
  {
   "cell_type": "markdown",
   "id": "d156cc50",
   "metadata": {},
   "source": [
    "![https://editor.analyticsvidhya.com/uploads/36018new_negative.png](https://editor.analyticsvidhya.com/uploads/36018new_negative.png)"
   ]
  },
  {
   "cell_type": "markdown",
   "id": "d9039daf",
   "metadata": {},
   "source": [
    "## 2.7. Interquantile Range"
   ]
  },
  {
   "cell_type": "markdown",
   "id": "b41d09cd",
   "metadata": {},
   "source": [
    "The interquartile range is a measure of where the “middle fifty” is in a data set. Where a range is a measure of where the beginning and end are in a set, an interquartile range is a measure of where the bulk of the values lie."
   ]
  },
  {
   "cell_type": "markdown",
   "id": "e1bb1987",
   "metadata": {},
   "source": [
    "In descriptive statistics, the interquartile range tells you the spread of the middle half of your distribution."
   ]
  },
  {
   "cell_type": "markdown",
   "id": "a356c7bb",
   "metadata": {},
   "source": [
    "Quartiles segment any distribution that’s ordered from low to high into four equal parts. The interquartile range (IQR) contains the second and third quartiles, or the middle half of your data set."
   ]
  },
  {
   "cell_type": "markdown",
   "id": "2964410a",
   "metadata": {},
   "source": [
    "![https://cdn.scribbr.com/wp-content/uploads/2020/09/iqr_quartiles.png](https://cdn.scribbr.com/wp-content/uploads/2020/09/iqr_quartiles.png)"
   ]
  },
  {
   "cell_type": "markdown",
   "id": "0d652394",
   "metadata": {},
   "source": [
    "### 2.7.1. Calculate the interquartile range"
   ]
  },
  {
   "cell_type": "markdown",
   "id": "71231b64",
   "metadata": {},
   "source": [
    "The interquartile range is found by subtracting the Q1 value from the Q3 value:"
   ]
  },
  {
   "cell_type": "markdown",
   "id": "eee1643d",
   "metadata": {},
   "source": [
    "**IQR = Q3 - Q1**"
   ]
  },
  {
   "cell_type": "markdown",
   "id": "3415f07e",
   "metadata": {},
   "source": [
    "Q1 is the value below which 25 percent of the distribution lies, while Q3 is the value below which 75 percent of the distribution lies.\n",
    "\n",
    "You can think of Q1 as the median of the first half and Q3 as the median of the second half of the distribution."
   ]
  },
  {
   "cell_type": "markdown",
   "id": "712ee47e",
   "metadata": {},
   "source": [
    "---"
   ]
  },
  {
   "cell_type": "markdown",
   "id": "d51d1dae",
   "metadata": {},
   "source": [
    "**Even number of observations**"
   ]
  },
  {
   "cell_type": "markdown",
   "id": "f822c8ad",
   "metadata": {},
   "source": [
    "We’ll walk through four steps using a sample data set with 10 values."
   ]
  },
  {
   "cell_type": "markdown",
   "id": "97a2e23c",
   "metadata": {},
   "source": [
    "**Step 1:** Order your values from low to high."
   ]
  },
  {
   "cell_type": "markdown",
   "id": "a5a3541c",
   "metadata": {},
   "source": [
    "![https://cdn.scribbr.com/wp-content/uploads/2020/09/pic2.png](https://cdn.scribbr.com/wp-content/uploads/2020/09/pic2.png)"
   ]
  },
  {
   "cell_type": "markdown",
   "id": "47d67c10",
   "metadata": {},
   "source": [
    "**Step 2:** Locate the median, and then separate the values below it from the values above it.\n",
    "\n",
    "With an even-numbered data set, the median is the mean of the two values in the middle, so you simply divide your data set into two halves."
   ]
  },
  {
   "cell_type": "markdown",
   "id": "4778ad4a",
   "metadata": {},
   "source": [
    "![https://cdn.scribbr.com/wp-content/uploads/2020/09/pic3.png](https://cdn.scribbr.com/wp-content/uploads/2020/09/pic3.png)"
   ]
  },
  {
   "cell_type": "markdown",
   "id": "9390ca5f",
   "metadata": {},
   "source": [
    "**Step 3:** Find Q1 and Q3."
   ]
  },
  {
   "cell_type": "markdown",
   "id": "4bdf90f7",
   "metadata": {},
   "source": [
    "Q1 is the median of the first half and Q3 is the median of the second half. Since each of these halves have an odd number of values, there is only one value in the middle of each half."
   ]
  },
  {
   "cell_type": "markdown",
   "id": "7b05322a",
   "metadata": {},
   "source": [
    "![https://cdn.scribbr.com/wp-content/uploads/2020/09/pic4.png](https://cdn.scribbr.com/wp-content/uploads/2020/09/pic4.png)"
   ]
  },
  {
   "cell_type": "markdown",
   "id": "4c1d316b",
   "metadata": {},
   "source": [
    "**Step 4:** Calculate the interquartile range."
   ]
  },
  {
   "cell_type": "markdown",
   "id": "335ac49e",
   "metadata": {},
   "source": [
    "![https://cdn.scribbr.com/wp-content/uploads/2020/09/pic5.png](https://cdn.scribbr.com/wp-content/uploads/2020/09/pic5.png)"
   ]
  },
  {
   "cell_type": "markdown",
   "id": "a4240681",
   "metadata": {},
   "source": [
    "---"
   ]
  },
  {
   "cell_type": "markdown",
   "id": "f28e0764",
   "metadata": {},
   "source": [
    "**Odd number of observations**"
   ]
  },
  {
   "cell_type": "markdown",
   "id": "a560a590",
   "metadata": {},
   "source": [
    "This time we’ll use a data set with 11 values."
   ]
  },
  {
   "cell_type": "markdown",
   "id": "63710288",
   "metadata": {},
   "source": [
    "**Step 1:** Order your values from low to high."
   ]
  },
  {
   "cell_type": "markdown",
   "id": "5e7360ab",
   "metadata": {},
   "source": [
    "![https://cdn.scribbr.com/wp-content/uploads/2020/09/pic2-1.png](https://cdn.scribbr.com/wp-content/uploads/2020/09/pic2-1.png)"
   ]
  },
  {
   "cell_type": "markdown",
   "id": "b8ad71c2",
   "metadata": {},
   "source": [
    "**Step 2:** Locate the median, and then separate the values below it from the values above it."
   ]
  },
  {
   "cell_type": "markdown",
   "id": "a557c4b5",
   "metadata": {},
   "source": [
    "In an odd-numbered data set, the median is the number in the middle of the list. The median itself is excluded from both halves: one half contains all values below the median, and the other contains all the values above it.\n"
   ]
  },
  {
   "cell_type": "markdown",
   "id": "e058cb3b",
   "metadata": {},
   "source": [
    "![https://cdn.scribbr.com/wp-content/uploads/2020/09/pic3-1.png](https://cdn.scribbr.com/wp-content/uploads/2020/09/pic3-1.png)"
   ]
  },
  {
   "cell_type": "markdown",
   "id": "aa8c04bd",
   "metadata": {},
   "source": [
    "**Step 3:** Find Q1 and Q3."
   ]
  },
  {
   "cell_type": "markdown",
   "id": "e97ae04b",
   "metadata": {},
   "source": [
    "Q1 is the median of the first half and Q3 is the median of the second half. Since each of these halves have an odd-numbered size, there is only one value in the middle of each half.\n"
   ]
  },
  {
   "cell_type": "markdown",
   "id": "f195c2d5",
   "metadata": {},
   "source": [
    "![https://cdn.scribbr.com/wp-content/uploads/2020/09/pic4-1.png](https://cdn.scribbr.com/wp-content/uploads/2020/09/pic4-1.png)"
   ]
  },
  {
   "cell_type": "markdown",
   "id": "1c641c0b",
   "metadata": {},
   "source": [
    "**Step 4:** Calculate the interquartile range."
   ]
  },
  {
   "cell_type": "markdown",
   "id": "d61f782e",
   "metadata": {},
   "source": [
    "![https://cdn.scribbr.com/wp-content/uploads/2020/09/pic5.png](https://cdn.scribbr.com/wp-content/uploads/2020/09/pic5.png)"
   ]
  },
  {
   "cell_type": "markdown",
   "id": "6c733fd9",
   "metadata": {},
   "source": [
    "### 2.7.2 When is the interquartile range useful?"
   ]
  },
  {
   "cell_type": "markdown",
   "id": "7babb315",
   "metadata": {},
   "source": [
    "The interquartile range is an especially useful measure of variability for skewed distributions.\n",
    "\n",
    "For these distributions, the median is the best measure of central tendency because it’s the value exactly in the middle when all values are ordered from low to high.\n",
    "\n",
    "Along with the median, the IQR can give you an overview of where most of your values lie and how clustered they are."
   ]
  },
  {
   "cell_type": "markdown",
   "id": "5ec8790b",
   "metadata": {},
   "source": [
    "### 2.7.3 Visualize the interquartile range in boxplots"
   ]
  },
  {
   "cell_type": "markdown",
   "id": "58d41349",
   "metadata": {},
   "source": [
    "A boxplot, or a box-and-whisker plot, summarizes a data set visually using a five-number summary.\n",
    "\n",
    "Every distribution can be organized using these five numbers:\n",
    "\n",
    "- Lowest value\n",
    "- Q1: 25th percentile\n",
    "- Median\n",
    "- Q3: 75th percentile\n",
    "- Highest value (Q4)"
   ]
  },
  {
   "cell_type": "markdown",
   "id": "67af69d2",
   "metadata": {},
   "source": [
    "The vertical lines in the box show Q1, the median, and Q3, while the whiskers at the ends show the highest and lowest values."
   ]
  },
  {
   "cell_type": "markdown",
   "id": "58e05f8f",
   "metadata": {},
   "source": [
    "![https://cdn.scribbr.com/wp-content/uploads/2020/09/iqr_boxplot.png](https://cdn.scribbr.com/wp-content/uploads/2020/09/iqr_boxplot.png)"
   ]
  },
  {
   "cell_type": "markdown",
   "id": "28148611",
   "metadata": {},
   "source": [
    "In a boxplot, the width of the box shows you the interquartile range. A smaller width means you have less dispersion, while a larger width means you have more dispersion.\n",
    "\n"
   ]
  },
  {
   "cell_type": "markdown",
   "id": "806b9350",
   "metadata": {},
   "source": [
    "Boxplots are especially useful for showing the central tendency and dispersion of skewed distributions.\n",
    "\n",
    "The placement of the box tells you the direction of the skew. A box that’s much closer to the right side means you have a negatively skewed distribution, and a box closer to the left side tells you that you have a positively skewed distribution."
   ]
  },
  {
   "cell_type": "markdown",
   "id": "f7707758",
   "metadata": {},
   "source": [
    "![https://cdn.scribbr.com/wp-content/uploads/2020/09/iqr_skewed_boxplot.png](https://cdn.scribbr.com/wp-content/uploads/2020/09/iqr_skewed_boxplot.png)"
   ]
  },
  {
   "cell_type": "markdown",
   "id": "5fdae653",
   "metadata": {},
   "source": [
    "## 2.8 Outlier detection using 1.5 x IQR Rule"
   ]
  },
  {
   "cell_type": "markdown",
   "id": "a974941f",
   "metadata": {},
   "source": [
    "An outlier is a data point that lies outside the overall pattern in a distribution.\n"
   ]
  },
  {
   "cell_type": "markdown",
   "id": "14f9ca79",
   "metadata": {},
   "source": [
    "The distribution below shows the scores on a driver's test for 191919 applicants. How many outliers do you see?"
   ]
  },
  {
   "cell_type": "markdown",
   "id": "42ae4246",
   "metadata": {},
   "source": [
    "![sample.png](sample.png)"
   ]
  },
  {
   "cell_type": "markdown",
   "id": "4aeacce7",
   "metadata": {},
   "source": [
    "Some people may say there are 5 outliers, but someone else might disagree and say there are 3 or 4 outliers. Statisticians have developed many ways to identify what should and shouldn't be called an outlier."
   ]
  },
  {
   "cell_type": "markdown",
   "id": "3633f2a6",
   "metadata": {},
   "source": [
    "A commonly used rule says that a data point is an outlier if it is more than **1.5 x IQR**, above the third quartile or below the first quartile. Said differently, low outliers are below **Q1 - 1.5 x IQR** and high outliers are above **Q3 + 1.5 x IQR**"
   ]
  },
  {
   "cell_type": "markdown",
   "id": "f9873001",
   "metadata": {},
   "source": [
    "**Step 1:** Find the median, quartiles, and interquartile range\n",
    "\n",
    "Here are the 19 scores listed out.\n",
    "5, 7, 10, 15, 19, 21, 21, 22, 22, 23, 23, 23, 23, 23, 24, 24, 24, 24, 25\n",
    "\n",
    "- **Median:** 23\n",
    "- **Q1:** 19\n",
    "- **Q3:** 24\n",
    "- **IQR (Q3 - Q1):** 5"
   ]
  },
  {
   "cell_type": "markdown",
   "id": "bebcd87c",
   "metadata": {},
   "source": [
    "**Step 2:** Calculate 1.5⋅IQR1 for low outliers."
   ]
  },
  {
   "cell_type": "markdown",
   "id": "6ea60c3f",
   "metadata": {},
   "source": [
    "- **1.5 x IQR:** 5x1.5 = 7.5\n",
    "- **Q1 - (1.5 x IQR):** 19-7.5 = 11.5"
   ]
  },
  {
   "cell_type": "markdown",
   "id": "64646873",
   "metadata": {},
   "source": [
    "**Step 3:** Calculate 1.5⋅IQR1 for upper outliers."
   ]
  },
  {
   "cell_type": "markdown",
   "id": "1ceeea60",
   "metadata": {},
   "source": [
    "- **1.5 x IQR:** 5x1.5 = 7.5\n",
    "- **Q3 + (1.5 x IQR):** 24+7.5 = 31.5"
   ]
  },
  {
   "cell_type": "markdown",
   "id": "ea50cc6d",
   "metadata": {},
   "source": [
    "**Step 4:** Find Outlier using lower and upper bound"
   ]
  },
  {
   "cell_type": "markdown",
   "id": "466986d9",
   "metadata": {},
   "source": [
    "- **Q1 - (1.5 x IQR):** 19-7.5 = 11.5\n",
    "    - values less than 11.5\n",
    "- **Q3 + (1.5 x IQR):** 24+7.5 = 31.5\n",
    "    - values more than 31.5\n",
    "    \n",
    "We have only 3 out liers in lower bound and have none in upper bound"
   ]
  },
  {
   "cell_type": "markdown",
   "id": "6750fa41",
   "metadata": {},
   "source": [
    "# 3. Data Visualizations (Scatter plot, Histogram, Bar plots, Line plots, Heat maps)"
   ]
  },
  {
   "cell_type": "markdown",
   "id": "16d2ae04",
   "metadata": {},
   "source": [
    "Charts are an essential part of working with data, as they are a way to condense large amounts of data into an easy to understand format. Visualizations of data can bring out insights to someone looking at the data for the first time, as well as convey findings to others who won’t see the raw data. There are countless chart types out there, each with different use cases. **Often, the most difficult part of creating a data visualization is figuring out which chart type is best for the task at hand.**"
   ]
  },
  {
   "cell_type": "markdown",
   "id": "c2d3bc6e",
   "metadata": {},
   "source": [
    "## 2.1. Bar chart"
   ]
  },
  {
   "cell_type": "markdown",
   "id": "0f90607b",
   "metadata": {},
   "source": [
    "In a bar chart, values are indicated by the length of bars, each of which corresponds with a measured group. Bar charts can be oriented vertically or horizontally; vertical bar charts are sometimes called column charts. Horizontal bar charts are a good option when you have a lot of bars to plot, or the labels on them require additional space to be legible."
   ]
  },
  {
   "cell_type": "markdown",
   "id": "23a046c7",
   "metadata": {},
   "source": [
    "![alt text](https://chartio.com/images/tutorials/charts/essential-chart-types/bar-chart.png \"Title\")"
   ]
  },
  {
   "cell_type": "markdown",
   "id": "222cab80",
   "metadata": {},
   "source": [
    "## 2.2. Line chart"
   ]
  },
  {
   "cell_type": "markdown",
   "id": "28afcd57",
   "metadata": {},
   "source": [
    "Line charts show changes in value across continuous measurements, such as those made over time. Movement of the line up or down helps bring out positive and negative changes, respectively. It can also expose overall trends, to help the reader make predictions or projections for future outcomes. Multiple line charts can also give rise to other related charts like the sparkline or ridgeline plot."
   ]
  },
  {
   "cell_type": "markdown",
   "id": "171071fb",
   "metadata": {},
   "source": [
    "![alt text](https://chartio.com/images/tutorials/charts/essential-chart-types/line-chart.png \"Title\")"
   ]
  },
  {
   "cell_type": "markdown",
   "id": "de7b498d",
   "metadata": {},
   "source": [
    "## 2.3. Scatter plot"
   ]
  },
  {
   "cell_type": "markdown",
   "id": "05b61721",
   "metadata": {},
   "source": [
    "A scatter plot displays values on two numeric variables using points positioned on two axes: one for each variable. Scatter plots are a versatile demonstration of the relationship between the plotted variables—whether that correlation is strong or weak, positive or negative, linear or non-linear. Scatter plots are also great for identifying outlier points and possible gaps in the data.\n",
    "\n"
   ]
  },
  {
   "cell_type": "markdown",
   "id": "12572813",
   "metadata": {},
   "source": [
    "![alt text](https://chartio.com/images/tutorials/charts/essential-chart-types/scatter-plot.png \"Title\")"
   ]
  },
  {
   "cell_type": "markdown",
   "id": "07182963",
   "metadata": {},
   "source": [
    "## 2.4. Box plot"
   ]
  },
  {
   "cell_type": "markdown",
   "id": "1ac9c556",
   "metadata": {},
   "source": [
    "A box plot uses boxes and whiskers to summarize the distribution of values within measured groups. The positions of the box and whisker ends show the regions where the majority of the data lies. We most commonly see box plots when we have multiple groups to compare to one another; other charts with more detail are preferred when we have only one group to plot."
   ]
  },
  {
   "cell_type": "markdown",
   "id": "3f0b1ac6",
   "metadata": {},
   "source": [
    "![alt text](https://chartio.com/images/tutorials/charts/essential-chart-types/box-plot.png \"Title\")"
   ]
  },
  {
   "cell_type": "markdown",
   "id": "31efaa12",
   "metadata": {},
   "source": [
    "## 2.5. Histogram"
   ]
  },
  {
   "cell_type": "markdown",
   "id": "87bbf952",
   "metadata": {},
   "source": [
    "If the groups depicted in a bar chart are actually continuous numeric ranges, we can push the bars together to generate a histogram. Bar lengths in histograms typically correspond to counts of data points, and their patterns demonstrate the distribution of variables in your data. A different chart type like line chart tends to be used when the vertical value is not a frequency count."
   ]
  },
  {
   "cell_type": "markdown",
   "id": "738c0831",
   "metadata": {},
   "source": [
    "![alt text](https://chartio.com/images/tutorials/charts/essential-chart-types/histogram.png \"Title\")"
   ]
  },
  {
   "cell_type": "markdown",
   "id": "f0bd186d",
   "metadata": {},
   "source": [
    "## 2.8. Bubble chart"
   ]
  },
  {
   "cell_type": "markdown",
   "id": "6f9f05c8",
   "metadata": {},
   "source": [
    "Another way of showing the relationship between three variables is through modification of a scatter plot. When a third variable is categorical, points can use different shapes or colors to indicate group membership. If the data points are ordered in some way, points can also be connected with line segments to show the sequence of values. When the third variable is numeric in nature, that is where the bubble chart comes in. A bubble chart builds on the base scatter plot by having the third variable’s value determine the size of each point."
   ]
  },
  {
   "cell_type": "markdown",
   "id": "7a277cde",
   "metadata": {},
   "source": [
    "![alt text](https://chartio.com/images/tutorials/charts/essential-chart-types/bubble-chart.png \"Title\")"
   ]
  },
  {
   "cell_type": "markdown",
   "id": "b0373680",
   "metadata": {},
   "source": [
    "## 2.10. Heatmap"
   ]
  },
  {
   "cell_type": "markdown",
   "id": "49786b11",
   "metadata": {},
   "source": [
    "The heatmap presents a grid of values based on two variables of interest. The axis variables can be numeric or categorical; the grid is created by dividing each variable into ranges or levels like a histogram or bar chart. Grid cells are colored based on value, often with darker colors corresponding with higher values. A heatmap can be an interesting alternative to a scatter plot when there are a lot of data points to plot, but the point density makes it difficult to see the true relationship between variables."
   ]
  },
  {
   "cell_type": "markdown",
   "id": "55dfa4c2",
   "metadata": {},
   "source": [
    "![alt text](https://chartio.com/images/tutorials/charts/essential-chart-types/heatmap.png \"Title\")"
   ]
  },
  {
   "cell_type": "markdown",
   "id": "a89303ea",
   "metadata": {},
   "source": [
    "## 2.11. Pie chart"
   ]
  },
  {
   "cell_type": "markdown",
   "id": "79726509",
   "metadata": {},
   "source": [
    "You might be surprised to see pie charts being sequestered here in the ‘specialist’ section, considering how commonly they are utilized. However, pie charts use an uncommon encoding, depicting values as areas sliced from a circular form. Since a pie chart typically lacks value markings around its perimeter, it is usually difficult to get a good idea of exact slice sizes. However, the pie chart and its cousin the donut plot excel at telling the reader that the part-to-whole comparison should be the main takeaway from the visualization."
   ]
  },
  {
   "cell_type": "markdown",
   "id": "6c1e4162",
   "metadata": {},
   "source": [
    "![alt text](https://chartio.com/images/tutorials/charts/essential-chart-types/pie-chart.png \"Title\")"
   ]
  },
  {
   "cell_type": "markdown",
   "id": "356ebc5e",
   "metadata": {},
   "source": [
    "## 2.12. Map-based plots"
   ]
  },
  {
   "cell_type": "markdown",
   "id": "ff9f6900",
   "metadata": {},
   "source": [
    "![https://chartio.com/images/tutorials/charts/essential-chart-types/choropleth.png](https://chartio.com/images/tutorials/charts/essential-chart-types/choropleth.png)"
   ]
  },
  {
   "cell_type": "markdown",
   "id": "f70d43f7",
   "metadata": {},
   "source": [
    "When values in a dataset correspond to actual geographic locations, it can be valuable to actually plot them with some kind of map. A common example of this type of map is the choropleth like the one above. This takes a heat map approach to depicting value through the use of color, but instead of values being plotted in a grid, they are filled into regions on a map."
   ]
  },
  {
   "cell_type": "markdown",
   "id": "1b30a8c5",
   "metadata": {},
   "source": [
    "\n",
    "**Data Visualization Cheat Sheet:** https://s3.amazonaws.com/assets.datacamp.com/email/other/Data+Visualizations+-+DataCamp.pdf\n",
    "\n",
    "**Data Visualization Cheat Sheet:** https://www.datacamp.com/cheat-sheet/data-viz-cheat-sheet"
   ]
  },
  {
   "cell_type": "markdown",
   "id": "6f8ff9c4",
   "metadata": {},
   "source": [
    "# 3. Data Normalization and Transformation"
   ]
  },
  {
   "cell_type": "markdown",
   "id": "a05624cd",
   "metadata": {},
   "source": [
    "Some machine learning algorithms are sensitive to feature scaling while others are virtually invariant to it."
   ]
  },
  {
   "cell_type": "markdown",
   "id": "06d1f440",
   "metadata": {},
   "source": [
    "Machine learning algorithms like linear regression, logistic regression, neural network, etc. that use gradient descent as an optimization technique require data to be scaled. "
   ]
  },
  {
   "cell_type": "markdown",
   "id": "e376a440",
   "metadata": {},
   "source": [
    "Distance algorithms like KNN, K-means, and SVM are most affected by the range of features. This is because behind the scenes they are using distances between data points to determine their similarity."
   ]
  },
  {
   "cell_type": "markdown",
   "id": "1c47cddf",
   "metadata": {},
   "source": [
    "![https://miro.medium.com/max/700/1*HW7-kYjj6RKwrO-5WTLkDA.png](https://miro.medium.com/max/700/1*HW7-kYjj6RKwrO-5WTLkDA.png)"
   ]
  },
  {
   "cell_type": "markdown",
   "id": "a1cd5a49",
   "metadata": {},
   "source": [
    "## 3.1. scaling to a range (Mix Max Scaler)"
   ]
  },
  {
   "cell_type": "markdown",
   "id": "e7472e9d",
   "metadata": {},
   "source": [
    "Scaling means converting floating-point feature values from their natural range (for example, 100 to 900) into a standard range—usually 0 and 1 (or sometimes -1 to +1). Use the following simple formula to scale to a range:"
   ]
  },
  {
   "cell_type": "markdown",
   "id": "423d7d9f",
   "metadata": {},
   "source": [
    "![minmax.png](minmax.png)"
   ]
  },
  {
   "cell_type": "code",
   "execution_count": 11,
   "id": "1534d7d0",
   "metadata": {},
   "outputs": [
    {
     "data": {
      "image/png": "[encoded data removed]",
      "text/plain": [
       "<Figure size 640x480 with 1 Axes>"
      ]
     },
     "metadata": {},
     "output_type": "display_data"
    }
   ],
   "source": [
    "from matplotlib import pyplot as plt\n",
    "\n",
    "list_ = [15, 20, 39, 50, 70, 75, 90, 100]\n",
    "plt.plot(list_)\n",
    "plt.show()"
   ]
  },
  {
   "cell_type": "code",
   "execution_count": 12,
   "id": "2fc35dc5",
   "metadata": {},
   "outputs": [],
   "source": [
    "xmin = min(list_)\n",
    "xmax = max(list_)\n",
    "\n",
    "scaled_list = [(x-xmin)/(xmax-xmin) for x in list_]"
   ]
  },
  {
   "cell_type": "code",
   "execution_count": 13,
   "id": "0d8c8222",
   "metadata": {},
   "outputs": [
    {
     "data": {
      "image/png": "[encoded data removed]",
      "text/plain": [
       "<Figure size 640x480 with 1 Axes>"
      ]
     },
     "metadata": {},
     "output_type": "display_data"
    }
   ],
   "source": [
    "plt.plot(scaled_list)\n",
    "plt.show()"
   ]
  },
  {
   "cell_type": "markdown",
   "id": "81f5c6b8",
   "metadata": {},
   "source": [
    "Scaling to a range is a good choice when both of the following conditions are met:\n",
    "\n",
    "- You know the approximate upper and lower bounds on your data with few or no outliers.\n",
    "- Your data is approximately uniformly distributed across that range.\n",
    "A good example is age. Most age values falls between 0 and 90, and every part of the range has a substantial number of people.\n",
    "\n",
    "In contrast, you would not use scaling on income, because only a few people have very high incomes. The upper bound of the linear scale for income would be very high, and most people would be squeezed into a small part of the scale."
   ]
  },
  {
   "cell_type": "markdown",
   "id": "f459b894",
   "metadata": {},
   "source": [
    "## 3.2. Feature Clipping"
   ]
  },
  {
   "cell_type": "markdown",
   "id": "10476e46",
   "metadata": {},
   "source": [
    "If your data set contains extreme outliers, you might try feature clipping, which caps all feature values above (or below) a certain value to fixed value. For example, you could clip all temperature values above 40 to be exactly 40."
   ]
  },
  {
   "cell_type": "markdown",
   "id": "b68a0232",
   "metadata": {},
   "source": [
    "You may apply feature clipping before or after other normalizations."
   ]
  },
  {
   "cell_type": "code",
   "execution_count": 14,
   "id": "7fcd7517",
   "metadata": {},
   "outputs": [],
   "source": [
    "import numpy as np\n",
    "import matplotlib.pyplot as plt\n",
    "\n",
    "values = np.append(np.random.normal(100, 20, 10000), [500,600,700,800,900,100])"
   ]
  },
  {
   "cell_type": "code",
   "execution_count": 15,
   "id": "81a858b5",
   "metadata": {},
   "outputs": [
    {
     "name": "stdout",
     "output_type": "stream",
     "text": [
      "[118.77493751 122.79032477 127.44090422 ... 800.         900.\n",
      " 100.        ]\n"
     ]
    }
   ],
   "source": [
    "print(values)"
   ]
  },
  {
   "cell_type": "code",
   "execution_count": 16,
   "id": "aa56fe5b",
   "metadata": {},
   "outputs": [
    {
     "data": {
      "text/plain": [
       "(22.586820614679823, 900.0)"
      ]
     },
     "execution_count": 16,
     "metadata": {},
     "output_type": "execute_result"
    }
   ],
   "source": [
    "values.min(), values.max()"
   ]
  },
  {
   "cell_type": "code",
   "execution_count": 17,
   "id": "2239f34e",
   "metadata": {},
   "outputs": [
    {
     "data": {
      "image/png": "[encoded data removed]",
      "text/plain": [
       "<Figure size 640x480 with 1 Axes>"
      ]
     },
     "metadata": {},
     "output_type": "display_data"
    }
   ],
   "source": [
    "plt.hist(values, 100)\n",
    "plt.show()"
   ]
  },
  {
   "cell_type": "code",
   "execution_count": 18,
   "id": "3c146357",
   "metadata": {},
   "outputs": [
    {
     "data": {
      "text/plain": [
       "118.7749375136462"
      ]
     },
     "execution_count": 18,
     "metadata": {},
     "output_type": "execute_result"
    }
   ],
   "source": [
    "import statistics\n",
    "statistics.mode(values)"
   ]
  },
  {
   "cell_type": "code",
   "execution_count": 19,
   "id": "0521319d",
   "metadata": {},
   "outputs": [],
   "source": [
    "values = np.delete(values, [500,600,700,800,900,100])"
   ]
  },
  {
   "cell_type": "code",
   "execution_count": 20,
   "id": "abca4881",
   "metadata": {},
   "outputs": [
    {
     "data": {
      "text/plain": [
       "118.7749375136462"
      ]
     },
     "execution_count": 20,
     "metadata": {},
     "output_type": "execute_result"
    }
   ],
   "source": [
    "statistics.mode(values)"
   ]
  },
  {
   "cell_type": "code",
   "execution_count": 21,
   "id": "8ea92a68",
   "metadata": {},
   "outputs": [
    {
     "data": {
      "image/png": "[encoded data removed]",
      "text/plain": [
       "<Figure size 640x480 with 1 Axes>"
      ]
     },
     "metadata": {},
     "output_type": "display_data"
    }
   ],
   "source": [
    "plt.hist(values[:-6], 100)\n",
    "plt.show()"
   ]
  },
  {
   "cell_type": "markdown",
   "id": "ab1030d1",
   "metadata": {},
   "source": [
    "## 3.3. Log Scaling"
   ]
  },
  {
   "cell_type": "markdown",
   "id": "2aa46ed3",
   "metadata": {},
   "source": [
    "Log scaling computes the log of your values to compress a wide range to a narrow range."
   ]
  },
  {
   "cell_type": "markdown",
   "id": "edcd14f9",
   "metadata": {},
   "source": [
    "![log.png](log.png)"
   ]
  },
  {
   "cell_type": "markdown",
   "id": "d2b88613",
   "metadata": {},
   "source": [
    "Log scaling is helpful when a handful of your values have many points, while most other values have few points. This data distribution is known as the power law distribution. Movie ratings are a good example. In the chart below, most movies have very few ratings (the data in the tail), while a few have lots of ratings (the data in the head). Log scaling changes the distribution, helping to improve linear model performance."
   ]
  },
  {
   "cell_type": "markdown",
   "id": "3391bf36",
   "metadata": {},
   "source": [
    "![norm-log-scaling-movie-ratings.svg](norm-log-scaling-movie-ratings.svg)"
   ]
  },
  {
   "cell_type": "code",
   "execution_count": 22,
   "id": "38d9e1bb",
   "metadata": {},
   "outputs": [
    {
     "data": {
      "text/plain": [
       "Text(0.5, 1.0, 'Log-Transformed Data')"
      ]
     },
     "execution_count": 22,
     "metadata": {},
     "output_type": "execute_result"
    },
    {
     "data": {
      "image/png": "[encoded data removed]",
      "text/plain": [
       "<Figure size 640x480 with 2 Axes>"
      ]
     },
     "metadata": {},
     "output_type": "display_data"
    }
   ],
   "source": [
    "import numpy as np\n",
    "import matplotlib.pyplot as plt\n",
    "\n",
    "#make this example reproducible\n",
    "np.random.seed(0)\n",
    "\n",
    "#create beta distributed random variable with 200 values\n",
    "data = np.random.beta(a=4, b=15, size=300)\n",
    "#create log-transformed data\n",
    "data_log = np.log(data)\n",
    "\n",
    "#define grid of plots\n",
    "fig, axs = plt.subplots(nrows=1, ncols=2)\n",
    "\n",
    "#create histograms\n",
    "axs[0].hist(data, edgecolor='black')\n",
    "axs[1].hist(data_log, edgecolor='black')\n",
    "\n",
    "#add title to each histogram\n",
    "axs[0].set_title('Original Data')\n",
    "axs[1].set_title('Log-Transformed Data')"
   ]
  },
  {
   "cell_type": "markdown",
   "id": "79e0e281",
   "metadata": {},
   "source": [
    "## 3.4. Z-Score"
   ]
  },
  {
   "cell_type": "markdown",
   "id": "365ecc8e",
   "metadata": {},
   "source": [
    "Z-score is a variation of scaling that represents the number of standard deviations away from the mean. You would use z-score to ensure your feature distributions have mean = 0 and std = 1. It’s useful when there are a few outliers, but not so extreme that you need clipping.\n",
    "\n",
    "The formula for calculating the z-score of a point, x, is as follows:"
   ]
  },
  {
   "cell_type": "markdown",
   "id": "bef1c898",
   "metadata": {},
   "source": [
    "![zscore.png](zscore.png)"
   ]
  },
  {
   "cell_type": "markdown",
   "id": "130a9308",
   "metadata": {},
   "source": [
    "![norm-z-score.svg](norm-z-score.svg)"
   ]
  },
  {
   "cell_type": "markdown",
   "id": "6467d04f",
   "metadata": {},
   "source": [
    "Notice that z-score squeezes raw values that have a range of ~40000 down into a range from roughly -1 to +4.\n",
    "\n",
    "Suppose you're not sure whether the outliers truly are extreme. In this case, start with z-score unless you have feature values that you don't want the model to learn; for example, the values are the result of measurement error or a quirk."
   ]
  },
  {
   "cell_type": "code",
   "execution_count": null,
   "id": "724e4e4e",
   "metadata": {},
   "outputs": [],
   "source": []
  }
 ],
 "metadata": {
  "kernelspec": {
   "display_name": "Python 3 (ipykernel)",
   "language": "python",
   "name": "python3"
  },
  "language_info": {
   "codemirror_mode": {
    "name": "ipython",
    "version": 3
   },
   "file_extension": ".py",
   "mimetype": "text/x-python",
   "name": "python",
   "nbconvert_exporter": "python",
   "pygments_lexer": "ipython3",
   "version": "3.10.6"
  }
 },
 "nbformat": 4,
 "nbformat_minor": 5
}
