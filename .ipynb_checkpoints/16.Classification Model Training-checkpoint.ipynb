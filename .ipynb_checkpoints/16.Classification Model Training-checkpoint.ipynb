{
 "cells": [
  {
   "cell_type": "code",
   "execution_count": 27,
   "id": "fa26aaa3",
   "metadata": {},
   "outputs": [],
   "source": [
    "import numpy as np \n",
    "import pandas as pd\n",
    "from sklearn.preprocessing import LabelEncoder\n",
    "from sklearn.model_selection import train_test_split\n",
    "\n",
    "from sklearn.linear_model import LogisticRegressionCV\n",
    "from sklearn.tree import DecisionTreeClassifier\n",
    "from sklearn.svm import SVC\n",
    "from sklearn.neighbors import KNeighborsClassifier\n",
    "from sklearn.ensemble import RandomForestClassifier\n",
    "\n",
    "from sklearn.metrics import accuracy_score, precision_score, recall_score, f1_score, roc_auc_score\n",
    "from sklearn.model_selection import cross_validate\n",
    "\n",
    "import warnings\n",
    "warnings.filterwarnings('ignore')"
   ]
  },
  {
   "cell_type": "code",
   "execution_count": 2,
   "id": "b8020574",
   "metadata": {},
   "outputs": [],
   "source": [
    "def scores(y_true, y_pred):\n",
    "    results = [accuracy_score(y_true, y_pred), precision_score(y_true, y_pred), recall_score(y_true, y_pred), f1_score(y_true, y_pred), roc_auc_score(y_true, y_pred)]\n",
    "    return [round(x, 2) for x in results]"
   ]
  },
  {
   "cell_type": "code",
   "execution_count": 3,
   "id": "278dd6f8",
   "metadata": {},
   "outputs": [],
   "source": [
    "def create_models(X_train, X_test, y_train, y_test):\n",
    "    print('Logistic Regression')\n",
    "    model = LogisticRegressionCV()\n",
    "    model.fit(X_train, y_train)\n",
    "    y_pred = model.predict(X_test)\n",
    "    results = scores(y_test, y_pred)\n",
    "    print('Accuracy: {}, Precision: {}, Recall: {}, F1:{}, ROC_AUC:{}'.format(results[0], results[1], results[2], results[3], results[4]))\n",
    "    \n",
    "    print('\\n')\n",
    "    \n",
    "    print('Decision Tree')\n",
    "    model = DecisionTreeClassifier()\n",
    "    model.fit(X_train, y_train)\n",
    "    y_pred = model.predict(X_test)\n",
    "    results = scores(y_test, y_pred)\n",
    "    print('Accuracy: {}, Precision: {}, Recall: {}, F1:{}, ROC_AUC:{}'.format(results[0], results[1], results[2], results[3], results[4]))\n",
    "    \n",
    "    print('\\n')\n",
    "    \n",
    "    print('SVM')\n",
    "    model = SVC()\n",
    "    model.fit(X_train, y_train)\n",
    "    y_pred = model.predict(X_test)\n",
    "    results = scores(y_test, y_pred)\n",
    "    print('Accuracy: {}, Precision: {}, Recall: {}, F1:{}, ROC_AUC:{}'.format(results[0], results[1], results[2], results[3], results[4]))\n",
    "    \n",
    "    print('\\n')\n",
    "    \n",
    "    print('KNN')\n",
    "    model = KNeighborsClassifier()\n",
    "    model.fit(X_train, y_train)\n",
    "    y_pred = model.predict(X_test)\n",
    "    results = scores(y_test, y_pred)\n",
    "    print('Accuracy: {}, Precision: {}, Recall: {}, F1:{}, ROC_AUC:{}'.format(results[0], results[1], results[2], results[3], results[4]))\n",
    "    \n",
    "    print('\\n')\n",
    "\n",
    "    print('Random Forest')\n",
    "    model = RandomForestClassifier()\n",
    "    model.fit(X_train, y_train)\n",
    "    y_pred = model.predict(X_test)\n",
    "    results = scores(y_test, y_pred)\n",
    "    print('Accuracy: {}, Precision: {}, Recall: {}, F1:{}, ROC_AUC:{}'.format(results[0], results[1], results[2], results[3], results[4]))"
   ]
  },
  {
   "cell_type": "code",
   "execution_count": 4,
   "id": "7b9413be",
   "metadata": {},
   "outputs": [],
   "source": [
    "data=pd.read_csv('titanic/train.csv')"
   ]
  },
  {
   "cell_type": "code",
   "execution_count": 5,
   "id": "d7f3fc3f",
   "metadata": {},
   "outputs": [],
   "source": [
    "data['Initial']=0\n",
    "for i in data:\n",
    "    data['Initial']=data.Name.str.extract('([A-Za-z]+)\\.') #lets extract the Salutations"
   ]
  },
  {
   "cell_type": "code",
   "execution_count": 6,
   "id": "c658c416",
   "metadata": {},
   "outputs": [],
   "source": [
    "data['Initial'].replace(\n",
    "    ['Mlle','Mme','Ms','Dr','Major','Lady','Countess','Jonkheer','Col','Rev','Capt','Sir','Don'],\n",
    "    ['Miss','Miss','Miss','Mr','Mr','Mrs','Mrs','Other','Other','Other','Mr','Mr','Mr'],inplace=True)"
   ]
  },
  {
   "cell_type": "code",
   "execution_count": 7,
   "id": "5f9e7e17",
   "metadata": {},
   "outputs": [],
   "source": [
    "## Assigning the NaN Values with the Ceil values of the mean ages\n",
    "data.loc[(data.Age.isnull())&(data.Initial=='Mr'),'Age']=33\n",
    "data.loc[(data.Age.isnull())&(data.Initial=='Mrs'),'Age']=36\n",
    "data.loc[(data.Age.isnull())&(data.Initial=='Master'),'Age']=5\n",
    "data.loc[(data.Age.isnull())&(data.Initial=='Miss'),'Age']=22\n",
    "data.loc[(data.Age.isnull())&(data.Initial=='Other'),'Age']=46"
   ]
  },
  {
   "cell_type": "code",
   "execution_count": 8,
   "id": "07bc4d09",
   "metadata": {},
   "outputs": [],
   "source": [
    "data['Cabin'] = data['Cabin'].apply(lambda x:not isinstance(x, float))"
   ]
  },
  {
   "cell_type": "code",
   "execution_count": 9,
   "id": "4cf72920",
   "metadata": {},
   "outputs": [],
   "source": [
    "data.drop(['PassengerId', 'Name', 'Ticket'], axis=1, inplace=True)"
   ]
  },
  {
   "cell_type": "code",
   "execution_count": 10,
   "id": "71c22639",
   "metadata": {},
   "outputs": [],
   "source": [
    "label_encoder = {}\n",
    "\n",
    "for x in ['Sex', 'Embarked', 'Initial']:\n",
    "    label_encoder[x] = LabelEncoder()\n",
    "    data[x] = label_encoder[x].fit_transform(data[x])"
   ]
  },
  {
   "cell_type": "code",
   "execution_count": 37,
   "id": "6a0b900b",
   "metadata": {},
   "outputs": [],
   "source": [
    "X = data[data.columns[1:]].values\n",
    "y = data['Survived']"
   ]
  },
  {
   "cell_type": "code",
   "execution_count": 12,
   "id": "e8e8a72c",
   "metadata": {},
   "outputs": [],
   "source": [
    "X_train, X_test, y_train, y_test = train_test_split(X, y, test_size=0.20, random_state=42)"
   ]
  },
  {
   "cell_type": "code",
   "execution_count": 39,
   "id": "80d3215e",
   "metadata": {},
   "outputs": [
    {
     "name": "stdout",
     "output_type": "stream",
     "text": [
      "Logistic Regression\n",
      "Accuracy: 0.82, Precision: 0.8, Recall: 0.76, F1:0.78, ROC_AUC:0.81\n",
      "\n",
      "\n",
      "Decision Tree\n",
      "Accuracy: 0.8, Precision: 0.77, Recall: 0.76, F1:0.76, ROC_AUC:0.8\n",
      "\n",
      "\n",
      "SVM\n",
      "Accuracy: 0.65, Precision: 0.75, Recall: 0.24, F1:0.37, ROC_AUC:0.59\n",
      "\n",
      "\n",
      "KNN\n",
      "Accuracy: 0.74, Precision: 0.74, Recall: 0.58, F1:0.65, ROC_AUC:0.72\n",
      "\n",
      "\n",
      "Random Forest\n",
      "Accuracy: 0.84, Precision: 0.81, Recall: 0.81, F1:0.81, ROC_AUC:0.84\n"
     ]
    }
   ],
   "source": [
    "create_models(X_train, X_test, y_train, y_test)"
   ]
  },
  {
   "cell_type": "markdown",
   "id": "222dbd81",
   "metadata": {},
   "source": [
    "---"
   ]
  },
  {
   "cell_type": "code",
   "execution_count": 53,
   "id": "6dde8bfd",
   "metadata": {},
   "outputs": [
    {
     "name": "stderr",
     "output_type": "stream",
     "text": [
      "[Parallel(n_jobs=-1)]: Using backend LokyBackend with 8 concurrent workers.\n",
      "[Parallel(n_jobs=-1)]: Done   6 out of  10 | elapsed:    0.3s remaining:    0.2s\n",
      "[Parallel(n_jobs=-1)]: Done  10 out of  10 | elapsed:    0.5s finished\n"
     ]
    }
   ],
   "source": [
    "model = RandomForestClassifier(random_state=42)\n",
    "score = cross_validate(model, X, y, cv=10, n_jobs=-1, verbose=1)"
   ]
  },
  {
   "cell_type": "code",
   "execution_count": 54,
   "id": "a50a3fb9",
   "metadata": {},
   "outputs": [
    {
     "data": {
      "text/plain": [
       "0.8159675405742822"
      ]
     },
     "execution_count": 54,
     "metadata": {},
     "output_type": "execute_result"
    }
   ],
   "source": [
    "score['test_score'].mean()"
   ]
  },
  {
   "cell_type": "code",
   "execution_count": null,
   "id": "69b5cf8b",
   "metadata": {},
   "outputs": [],
   "source": []
  }
 ],
 "metadata": {
  "kernelspec": {
   "display_name": "Python 3 (ipykernel)",
   "language": "python",
   "name": "python3"
  },
  "language_info": {
   "codemirror_mode": {
    "name": "ipython",
    "version": 3
   },
   "file_extension": ".py",
   "mimetype": "text/x-python",
   "name": "python",
   "nbconvert_exporter": "python",
   "pygments_lexer": "ipython3",
   "version": "3.10.6"
  }
 },
 "nbformat": 4,
 "nbformat_minor": 5
}
