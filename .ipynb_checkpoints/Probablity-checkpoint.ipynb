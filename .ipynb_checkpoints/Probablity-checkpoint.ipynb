{
 "cells": [
  {
   "cell_type": "markdown",
   "id": "070b5be9",
   "metadata": {},
   "source": [
    "- What is Probability?\n",
    "- Permutations and Combinations\n",
    "- Intersections, Unions, and Complements\n",
    "- Independent and Dependent Events and Conditional Probability\n",
    "- Addition and Multiplication Rules\n",
    "- Bayes Theorem"
   ]
  },
  {
   "cell_type": "markdown",
   "id": "377e6b67",
   "metadata": {},
   "source": [
    "# 1. What is Probability?"
   ]
  },
  {
   "cell_type": "markdown",
   "id": "c9be3b95",
   "metadata": {},
   "source": [
    "Probability is simply how likely something is to happen. Whenever we’re unsure about the outcome of an event, we can talk about the probabilities of certain outcomes—how likely they are. "
   ]
  },
  {
   "cell_type": "markdown",
   "id": "ef3887a1",
   "metadata": {},
   "source": [
    "**The best example for understanding probability is flipping a coin:**\n",
    "\n",
    "There are two possible outcomes—heads or tails.\n",
    "\n",
    "What’s the probability of the coin landing on Heads? We can find out using the equation P(H) = ? P, left parenthesis, H, right parenthesis, equals, question mark.You might intuitively know that the likelihood is half/half, or 50%."
   ]
  },
  {
   "cell_type": "markdown",
   "id": "6d6b6b09",
   "metadata": {},
   "source": [
    "# 2. What is Permutation and Combinations?"
   ]
  },
  {
   "cell_type": "markdown",
   "id": "d1a62902",
   "metadata": {},
   "source": [
    "Permutations and combinations might sound like synonyms. However, in probability theory, they have distinct definitions.\n",
    "\n",
    "- **Combinations:** The order of outcomes does not matter.\n",
    "- **Permutations:** The order of outcomes does matter."
   ]
  },
  {
   "cell_type": "markdown",
   "id": "8fcb1326",
   "metadata": {},
   "source": [
    "For example, on a pizza, you might have a combination of three toppings: pepperoni, ham, and mushroom. The order doesn’t matter. For example, using letters for the toppings, you can have PHM, PMH, HPM, and so on. It doesn’t matter for the person who eats the pizza because you have the same combination of three toppings. In other words, the order of these three letters does not matter and they form one combination."
   ]
  },
  {
   "cell_type": "markdown",
   "id": "873d0a52",
   "metadata": {},
   "source": [
    "However, imagine we’re using those letters for a weak password. In this case, the order is crucial, making them permutations. PHM, PMH, HPM, etc., are distinct permutations. If the password is PHM, entering HPM will not work. When you have at least two permutations, the number of permutations is greater than the number of combinations. "
   ]
  },
  {
   "cell_type": "markdown",
   "id": "de664dc1",
   "metadata": {},
   "source": [
    "| Permutation      | Combination |\n",
    "| :---        | :---        |\n",
    "| Arranging people, digits, numbers, alphabets, letters, and colours | Selection of menu, food, clothes, subjects, team. |\n",
    "| Picking a team captain, pitcher and shortstop from a group. | Picking three team members from a group. |\n",
    "| Picking two favourite colours, in order, from a colour brochure. | Picking two colours from a colour brochure. |\n",
    "| Picking first, second and third place winners. | Picking three winners. |"
   ]
  },
  {
   "cell_type": "markdown",
   "id": "382f4fc7",
   "metadata": {},
   "source": [
    "nCr = (n!) / (n-r)!"
   ]
  },
  {
   "cell_type": "markdown",
   "id": "18dc17d8",
   "metadata": {},
   "source": [
    "nPr = (n!) / r!(n-r)!"
   ]
  },
  {
   "cell_type": "markdown",
   "id": "6122a8d3",
   "metadata": {},
   "source": [
    "# 3. Intersections, Unions, and Complements"
   ]
  },
  {
   "cell_type": "markdown",
   "id": "31fb5013",
   "metadata": {},
   "source": [
    "## 3.1. Complements:\n",
    "\n",
    "The complement of an event  A  in a sample space  S , denoted  Ac , is the collection of all outcomes in  S  that are not elements of the set  A . It corresponds to negating any description in words of the event  A ."
   ]
  },
  {
   "cell_type": "markdown",
   "id": "a4e9d420",
   "metadata": {},
   "source": [
    "**Question:**\n",
    "    \n",
    "Two events connected with the experiment of rolling a single die are  E : “the number rolled is even” and  T : “the number rolled is greater than two.” Find the complement of each.\n",
    "\n",
    "**Solution:**\n",
    "\n",
    "In the sample space  S={1,2,3,4,5,6}  the corresponding sets of outcomes are  E={2,4,6}  and  T={3,4,5,6} . The complements are  Ec={1,3,5}  and  Tc={1,2} .\n",
    "\n",
    "In words the complements are described by “the number rolled is not even” and “the number rolled is not greater than two.” Of course easier descriptions would be “the number rolled is odd” and “the number rolled is less than three.”"
   ]
  },
  {
   "cell_type": "markdown",
   "id": "7a5105c3",
   "metadata": {},
   "source": [
    "**If there is a  60%  chance of rain tomorrow, what is the probability of fair weather? The obvious answer,  40% , is an instance of the following general rule.**"
   ]
  },
  {
   "cell_type": "markdown",
   "id": "1d00c4ab",
   "metadata": {},
   "source": [
    "### Probability Rule for Complements:"
   ]
  },
  {
   "cell_type": "markdown",
   "id": "ddfbcdf3",
   "metadata": {},
   "source": [
    "The Probability Rule for Complements states that **P(Ac)=1−P(A)**"
   ]
  },
  {
   "cell_type": "markdown",
   "id": "295671ba",
   "metadata": {},
   "source": [
    "![compliment.png](compliment.png)"
   ]
  },
  {
   "cell_type": "markdown",
   "id": "8cf9ffd1",
   "metadata": {},
   "source": [
    "## 3.2. Intersection of Events:\n",
    "The intersection of events  A  and  B , denoted  A∩B , is the collection of all outcomes that are elements of both of the sets  A  and  B . It corresponds to combining descriptions of the two events using the word “and.”"
   ]
  },
  {
   "cell_type": "markdown",
   "id": "f806dd70",
   "metadata": {},
   "source": [
    "**Question:**\n",
    "    \n",
    "In the experiment of rolling a single die, find the intersection  E∩T  of the events  E : “the number rolled is even” and  T : “the number rolled is greater than two.”\n",
    "\n",
    "**Solution:**\n",
    "\n",
    "The sample space is  S={1,2,3,4,5,6} . Since the outcomes that are common to  E={2,4,6}  and  T={3,4,5,6}  are  4  and  6 ,  E∩T={4,6} .\n",
    "\n",
    "In words the intersection is described by “the number rolled is even and is greater than two.” The only numbers between one and six that are both even and greater than two are four and six, corresponding to  E∩T  given above."
   ]
  },
  {
   "cell_type": "markdown",
   "id": "4c74f8c8",
   "metadata": {},
   "source": [
    "![intersection.png](intersection.png)"
   ]
  },
  {
   "cell_type": "markdown",
   "id": "0a0441c2",
   "metadata": {},
   "source": [
    "### Mutually Exclusive:\n",
    "Events that cannot both occur at once.\n",
    "\n",
    "Events  A  and  B  are mutually exclusive (cannot both occur at once) if they have no elements in common."
   ]
  },
  {
   "cell_type": "markdown",
   "id": "412fd87e",
   "metadata": {},
   "source": [
    "### Probability Rule for Mutually Exclusive Events:\n",
    "\n",
    "Events  A  and  B  are mutually exclusive if and only if\n",
    "\n",
    "P(A∩B)=0"
   ]
  },
  {
   "cell_type": "markdown",
   "id": "c1284fab",
   "metadata": {},
   "source": [
    "![m-exclusive.png](m-exclusive.png)"
   ]
  },
  {
   "cell_type": "markdown",
   "id": "5a652f3a",
   "metadata": {},
   "source": [
    "## 3.3. Union of Events\n",
    "The union of events  A  and  B,  denoted  A∪B , is the collection of all outcomes that are elements of one or the other of the sets  A  and  B , or of both of them. It corresponds to combining descriptions of the two events using the word “or.”"
   ]
  },
  {
   "cell_type": "markdown",
   "id": "da2b1e23",
   "metadata": {},
   "source": [
    "**Question:**\n",
    "    \n",
    "In the experiment of rolling a single die, find the union of the events  E : “the number rolled is even” and  T : “the number rolled is greater than two.”\n",
    "\n",
    "**Solution:**\n",
    "\n",
    "Since the outcomes that are in either  E={2,4,6}  or  T={3,4,5,6}  (or both) are  2,3,4,5,  and  6 , that means  E∪T={2,3,4,5,6} .\n",
    "\n",
    "Note that an outcome such as  4  that is in both sets is still listed only once (although strictly speaking it is not incorrect to list it twice).\n",
    "\n",
    "In words the union is described by “the number rolled is even or is greater than two.” Every number between one and six except the number one is either even or is greater than two, corresponding to  E∪T  given above."
   ]
  },
  {
   "cell_type": "markdown",
   "id": "bc2e1b99",
   "metadata": {},
   "source": [
    "### Additive Rule of Probability"
   ]
  },
  {
   "cell_type": "markdown",
   "id": "54b80650",
   "metadata": {},
   "source": [
    "A useful property to know is the Additive Rule of Probability, which is\n",
    "\n",
    "**P(A∪B)=P(A)+P(B)−P(A∩B)**"
   ]
  },
  {
   "cell_type": "markdown",
   "id": "240152e0",
   "metadata": {},
   "source": [
    "![addictive.png](addictive.png)"
   ]
  },
  {
   "cell_type": "markdown",
   "id": "af848111",
   "metadata": {},
   "source": [
    "# 4. Conditional Probability and Independent Events"
   ]
  },
  {
   "cell_type": "markdown",
   "id": "ca0ccbde",
   "metadata": {},
   "source": [
    "Sometimes the presence or absence of one event tells us something about other events. We call events dependent if knowing whether one of them happened tells us something about whether the others happened. Independent events give us no information about one another; the probability of one event occurring does not affect the probability of the other events occurring."
   ]
  },
  {
   "cell_type": "markdown",
   "id": "7874c3da",
   "metadata": {},
   "source": [
    "## 4.1. Independent and Dependent Events\n",
    "\n",
    "Events whose probability of occurring together is the product of their individual probabilities.\n",
    "\n",
    "Events  A  and  B  are independent (i.e., events whose probability of occurring together is the product of their individual probabilities). if\n",
    "\n",
    "P(A∩B)=P(A)⋅P(B)\n",
    "\n",
    "If  A  and  B  are not independent then they are dependent."
   ]
  },
  {
   "cell_type": "markdown",
   "id": "1b79eaf7",
   "metadata": {},
   "source": [
    "**Independant**"
   ]
  },
  {
   "cell_type": "markdown",
   "id": "e9892ae1",
   "metadata": {},
   "source": [
    "![indepandent.png](indepandent.png)"
   ]
  },
  {
   "cell_type": "markdown",
   "id": "2d2e7bd2",
   "metadata": {},
   "source": [
    "**Dependant**"
   ]
  },
  {
   "cell_type": "markdown",
   "id": "9d191849",
   "metadata": {},
   "source": [
    "![depandant.png](depandant.png)"
   ]
  },
  {
   "cell_type": "markdown",
   "id": "9bcb5ac6",
   "metadata": {},
   "source": [
    "## 4.2. Conditional Probablity"
   ]
  },
  {
   "cell_type": "markdown",
   "id": "5b7de196",
   "metadata": {},
   "source": [
    "The conditional probability of  A  given  B , denoted  P(A∣B) , is the probability that event  A  has occurred in a trial of a random experiment for which it is known that event  B  has definitely occurred. It may be computed by means of the following formula:\n",
    "\n",
    "**P(A∣B)=P(A∩B)/P(B)**"
   ]
  },
  {
   "cell_type": "markdown",
   "id": "4f903b95",
   "metadata": {},
   "source": [
    "**Question:**\n",
    "A bag contains 5 red and 5 blue balls. We remove a random ball from the bag, record its colour and put it back into the bag. We then remove another random ball from the bag and record its colour.\n",
    "\n",
    "- What is the probability that the first ball is red?\n",
    "- What is the probability that the second ball is blue?\n",
    "- What is the probability that the first ball is red and the second ball is blue?\n",
    "- Are the first ball being red and the second ball being blue independent events?"
   ]
  },
  {
   "cell_type": "markdown",
   "id": "75df2881",
   "metadata": {},
   "source": [
    "1.\n",
    "\n",
    "Probability of a red ball first\n",
    "\n",
    "Since there are a total of 10 balls, of which 5 are red, the probability of getting a red ball is\n",
    "P(first ball red)=5/10=1/2"
   ]
  },
  {
   "cell_type": "markdown",
   "id": "53328ce8",
   "metadata": {},
   "source": [
    "2.\n",
    "Probability of a blue ball second\n",
    "\n",
    "The problem states that the first ball is placed back into the bag before we take the second ball. This means that when we draw the second ball, there are again a total of 10 balls in the bag, of which 5 are blue. Therefore the probability of drawing a blue ball is\n",
    "P(second ball blue)=5/10=1/2"
   ]
  },
  {
   "cell_type": "markdown",
   "id": "c124cf1e",
   "metadata": {},
   "source": [
    "3. Probability of red first and blue second\n",
    "\n",
    "When drawing two balls from the bag, there are 4 possibilities. We can get\n",
    "\n",
    "- a red ball and then another red ball;\n",
    "- a red ball and then a blue ball;\n",
    "- a blue ball and then a red ball;\n",
    "- a blue ball and then another blue ball.\n",
    "\n",
    "We want to know the probability of the second outcome, where we have to get a red ball first. Since there are 5 red balls and 10 balls in total, there are 5/10 ways to get a red ball first. Now we put the first ball back, so there are again 5 red balls and 5 blue balls in the bag. Therefore there are 5/10 ways to get a blue ball second if the first ball was red. This means that there are\n",
    "5/10×5/10=25/100\n",
    "\n",
    "ways to get a red ball first and a blue ball second. So, the probability of getting a red ball first and a blue ball second is 1/4."
   ]
  },
  {
   "cell_type": "markdown",
   "id": "1fb89028",
   "metadata": {},
   "source": [
    "4.\n",
    "Dependent or independent?\n",
    "\n",
    "According to the definition, events are independent if and only if\n",
    "\n",
    "P(A and B)=P(A)×P(B)\n",
    "\n",
    "In this problem:\n",
    "\n",
    "- P(first ball red)=1/2\n",
    "- P(second ball blue)=1/2\n",
    "- P(first ball red and second ball blue)=1/4\n",
    "\n",
    "Since 1/4=1/2×1/2, the events are independent."
   ]
  },
  {
   "cell_type": "markdown",
   "id": "a7f64edc",
   "metadata": {},
   "source": [
    "---"
   ]
  },
  {
   "cell_type": "markdown",
   "id": "1be66c4a",
   "metadata": {},
   "source": [
    "**Question:**\n",
    "    \n",
    "Suppose that in an adult population the proportion of people who are both overweight and suffer hypertension is  0.09 ; the proportion of people who are not overweight but suffer hypertension is  0.11 ; the proportion of people who are overweight but do not suffer hypertension is  0.02 ; and the proportion of people who are neither overweight nor suffer hypertension is  0.78 . An adult is randomly selected from this population.\n",
    "\n",
    "- Find the probability that the person selected suffers hypertension given that he is overweight.\n",
    "- Find the probability that the selected person suffers hypertension given that he is not overweight.\n",
    "- Compare the two probabilities just found to give an answer to the question as to whether overweight people tend to suffer from hypertension."
   ]
  },
  {
   "cell_type": "markdown",
   "id": "91191f56",
   "metadata": {},
   "source": [
    "![conditional.png](conditional.png)"
   ]
  },
  {
   "cell_type": "markdown",
   "id": "4026f0ce",
   "metadata": {},
   "source": [
    "# 5. Addition and Multiplication Rules"
   ]
  },
  {
   "cell_type": "markdown",
   "id": "5603a7c1",
   "metadata": {},
   "source": [
    "![multiplication.png](multiplication.png)"
   ]
  },
  {
   "cell_type": "markdown",
   "id": "5200b015",
   "metadata": {},
   "source": [
    "![addition.png](addition.png)"
   ]
  },
  {
   "cell_type": "markdown",
   "id": "0132b13f",
   "metadata": {},
   "source": [
    "https://www.statisticshowto.com/probability-and-statistics/probability-main-index/bayes-theorem-problems/"
   ]
  },
  {
   "cell_type": "markdown",
   "id": "723096f3",
   "metadata": {},
   "source": [
    "https://www.khanacademy.org/math/ap-statistics/probability-ap/stats-conditional-probability/a/tree-diagrams-conditional-probability"
   ]
  },
  {
   "cell_type": "code",
   "execution_count": null,
   "id": "e12d2816",
   "metadata": {},
   "outputs": [],
   "source": []
  }
 ],
 "metadata": {
  "kernelspec": {
   "display_name": "Python 3 (ipykernel)",
   "language": "python",
   "name": "python3"
  },
  "language_info": {
   "codemirror_mode": {
    "name": "ipython",
    "version": 3
   },
   "file_extension": ".py",
   "mimetype": "text/x-python",
   "name": "python",
   "nbconvert_exporter": "python",
   "pygments_lexer": "ipython3",
   "version": "3.10.4"
  }
 },
 "nbformat": 4,
 "nbformat_minor": 5
}
