{
 "cells": [
  {
   "cell_type": "markdown",
   "id": "86a37457",
   "metadata": {},
   "source": [
    "# Unsupervised Learning\n",
    "\n",
    "In some pattern recognition problems, the training data consists of a set of input vectors x without any corresponding target values. The goal in such unsupervised learning problems may be to discover groups of similar examples within the data, where it is called clustering, or to determine how the data is distributed in the space, known as density estimation. To put forward in simpler terms, for a n-sampled space x1 to xn, true class labels are not provided for each sample, hence known as learning without teacher."
   ]
  },
  {
   "cell_type": "markdown",
   "id": "cdb0e7b3",
   "metadata": {},
   "source": [
    "![https://static.javatpoint.com/tutorial/machine-learning/images/unsupervised-machine-learning-1.png](https://static.javatpoint.com/tutorial/machine-learning/images/unsupervised-machine-learning-1.png)"
   ]
  },
  {
   "cell_type": "markdown",
   "id": "2d45353a",
   "metadata": {},
   "source": [
    "## Issues with Unsupervised Learning:\n",
    "\n",
    "- Unsupervised Learning is harder as compared to Supervised Learning tasks..\n",
    "- How do we know if results are meaningful since no answer labels are available?\n",
    "- Let the expert look at the results (external evaluation)\n",
    "- Define an objective function on clustering (internal evaluation)"
   ]
  },
  {
   "cell_type": "markdown",
   "id": "022bb144",
   "metadata": {},
   "source": [
    "## Why Unsupervised Learning is needed despite of these issues?\n",
    "\n",
    "- Annotating large datasets is very costly and hence we can label only a few examples manually. Example: Speech Recognition\n",
    "- There may be cases where we don’t know how many/what classes is the data divided into. Example: Data Mining\n",
    "- We may want to use clustering to gain some insight into the structure of the data before designing a classifier."
   ]
  },
  {
   "cell_type": "markdown",
   "id": "993629cb",
   "metadata": {},
   "source": [
    "---\n",
    "---\n",
    "---"
   ]
  },
  {
   "cell_type": "markdown",
   "id": "72733b52",
   "metadata": {},
   "source": [
    "# Types of Unsupervised Learning Algorithm:\n",
    "\n",
    "The unsupervised learning algorithm can be further categorized into two types of problems:\n",
    "\n",
    "- **Clustering:** Clustering is a method of grouping the objects into clusters such that objects with most similarities remains into a group and has less or no similarities with the objects of another group. Cluster analysis finds the commonalities between the data objects and categorizes them as per the presence and absence of those commonalities.\n",
    "- **Association:** An association rule is an unsupervised learning method which is used for finding the relationships between variables in the large database. It determines the set of items that occurs together in the dataset. Association rule makes marketing strategy more effective. Such as people who buy X item (suppose a bread) are also tend to purchase Y (Butter/Jam) item. A typical example of Association rule is Market Basket Analysis."
   ]
  },
  {
   "cell_type": "markdown",
   "id": "a4aa4ade",
   "metadata": {},
   "source": [
    "---\n",
    "---\n",
    "---"
   ]
  },
  {
   "cell_type": "markdown",
   "id": "11ee9d50",
   "metadata": {},
   "source": [
    "# There are different types of clustering you can utilize:\n",
    "**Exclusive (partitioning):**\n",
    "In this clustering method, Data are grouped in such a way that one data can belong to one cluster only.\n",
    "\n",
    "Example: K-means\n",
    "\n",
    "**Agglomerative:**\n",
    "In this clustering technique, every data is a cluster. The iterative unions between the two nearest clusters reduce the number of clusters.\n",
    "\n",
    "Example: Hierarchical clustering\n",
    "\n",
    "**Overlapping:**\n",
    "In this technique, fuzzy sets is used to cluster data. Each point may belong to two or more clusters with separate degrees of membership.\n",
    "\n",
    "Here, data will be associated with an appropriate membership value. Example: Fuzzy C-Means\n",
    "\n",
    "**Probabilistic:**\n",
    "This technique uses probability distribution to create the clusters\n",
    "\n",
    "Example: Following keywords\n",
    "\n",
    "- “man’s shoe.”\n",
    "- “women’s shoe.”\n",
    "- “women’s glove.”\n",
    "- “man’s glove.”\n",
    "\n",
    "can be clustered into two categories “shoe” and “glove” or “man” and “women.”"
   ]
  },
  {
   "cell_type": "markdown",
   "id": "010948e9",
   "metadata": {},
   "source": [
    "## Clustering Types\n",
    "\n",
    "Following are the clustering types of Machine Learning:\n",
    "\n",
    "- Hierarchical clustering\n",
    "- K-means clustering\n",
    "- K-NN (k nearest neighbors)\n",
    "- Principal Component Analysis\n",
    "- Singular Value Decomposition\n",
    "- Independent Component Analysis"
   ]
  },
  {
   "cell_type": "markdown",
   "id": "b9d86518",
   "metadata": {},
   "source": [
    "**Hierarchical Clustering:**\n",
    "Hierarchical clustering is an algorithm which builds a hierarchy of clusters. It begins with all the data which is assigned to a cluster of their own. Here, two close cluster are going to be in the same cluster. This algorithm ends when there is only one cluster left.\n",
    "\n",
    "**K-means Clustering:**\n",
    "K means it is an iterative clustering algorithm which helps you to find the highest value for every iteration. Initially, the desired number of clusters are selected. In this clustering method, you need to cluster the data points into k groups. A larger k means smaller groups with more granularity in the same way. A lower k means larger groups with less granularity.\n",
    "\n",
    "The output of the algorithm is a group of “labels.” It assigns data point to one of the k groups. In k-means clustering, each group is defined by creating a centroid for each group. The centroids are like the heart of the cluster, which captures the points closest to them and adds them to the cluster.\n",
    "\n",
    "K-mean clustering further defines two subgroups:\n",
    "\n",
    "- Agglomerative clustering\n",
    "- Dendrogram\n",
    "\n",
    "**Agglomerative clustering:**\n",
    "This type of K-means clustering starts with a fixed number of clusters. It allocates all data into the exact number of clusters. This clustering method does not require the number of clusters K as an input. Agglomeration process starts by forming each data as a single cluster.\n",
    "\n",
    "This method uses some distance measure, reduces the number of clusters (one in each iteration) by merging process. Lastly, we have one big cluster that contains all the objects.\n",
    "\n",
    "**Dendrogram:**\n",
    "In the Dendrogram clustering method, each level will represent a possible cluster. The height of dendrogram shows the level of similarity between two join clusters. The closer to the bottom of the process they are more similar cluster which is finding of the group from dendrogram which is not natural and mostly subjective.\n",
    "\n",
    "**K- Nearest neighbors:**\n",
    "K- nearest neighbour is the simplest of all machine learning classifiers. It differs from other machine learning techniques, in that it doesn’t produce a model. It is a simple algorithm which stores all available cases and classifies new instances based on a similarity measure.\n",
    "\n",
    "It works very well when there is a distance between examples. The learning speed is slow when the training set is large, and the distance calculation is nontrivial.\n",
    "\n",
    "**Principal Components Analysis:**\n",
    "In case you want a higher-dimensional space. You need to select a basis for that space and only the 200 most important scores of that basis. This base is known as a principal component. The subset you select constitute is a new space which is small in size compared to original space. It maintains as much of the complexity of data as possible."
   ]
  },
  {
   "cell_type": "markdown",
   "id": "5da73efe",
   "metadata": {},
   "source": [
    "---\n",
    "---\n",
    "---"
   ]
  },
  {
   "cell_type": "markdown",
   "id": "a5b11e07",
   "metadata": {},
   "source": [
    "# Association\n",
    "Association rules allow you to establish associations amongst data objects inside large databases. This unsupervised technique is about discovering interesting relationships between variables in large databases. For example, people that buy a new home most likely to buy new furniture.\n",
    "\n",
    "Other Examples:\n",
    "\n",
    "A subgroup of cancer patients grouped by their gene expression measurements\n",
    "Groups of shopper based on their browsing and purchasing histories\n",
    "Movie group by the rating given by movies viewers\n"
   ]
  },
  {
   "cell_type": "markdown",
   "id": "507f9b23",
   "metadata": {},
   "source": [
    "https://www.ibm.com/cloud/learn/unsupervised-learning#:~:text=Unsupervised%20learning%2C%20also%20known%20as,the%20need%20for%20human%20intervention."
   ]
  },
  {
   "cell_type": "markdown",
   "id": "d8c84850",
   "metadata": {},
   "source": [
    "https://towardsdatascience.com/unsupervised-learning-and-data-clustering-eeecb78b422a"
   ]
  },
  {
   "cell_type": "code",
   "execution_count": null,
   "id": "8e90b15f",
   "metadata": {},
   "outputs": [],
   "source": []
  }
 ],
 "metadata": {
  "kernelspec": {
   "display_name": "Python 3 (ipykernel)",
   "language": "python",
   "name": "python3"
  },
  "language_info": {
   "codemirror_mode": {
    "name": "ipython",
    "version": 3
   },
   "file_extension": ".py",
   "mimetype": "text/x-python",
   "name": "python",
   "nbconvert_exporter": "python",
   "pygments_lexer": "ipython3",
   "version": "3.10.4"
  }
 },
 "nbformat": 4,
 "nbformat_minor": 5
}
