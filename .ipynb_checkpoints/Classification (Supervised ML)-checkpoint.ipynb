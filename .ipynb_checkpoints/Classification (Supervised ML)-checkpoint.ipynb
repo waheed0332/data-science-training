{
 "cells": [
  {
   "cell_type": "markdown",
   "id": "24a77433",
   "metadata": {},
   "source": [
    "Classification is a task that requires the use of machine learning algorithms that learn how to assign a class label to examples from the problem domain. An easy to understand example is classifying emails as “spam” or “not spam.”"
   ]
  },
  {
   "cell_type": "markdown",
   "id": "5341ec73",
   "metadata": {},
   "source": [
    "There are main 4 types of classification problems:\n",
    "\n",
    "- Binary Classification\n",
    "- Multi-Class Classification\n",
    "- Multi-Label Classification\n",
    "- Imbalanced Classification"
   ]
  },
  {
   "cell_type": "markdown",
   "id": "3c8f5e66",
   "metadata": {},
   "source": [
    "**1. Binary classification** refers to those classification tasks that have two class labels.\n",
    "\n",
    "Examples include:\n",
    "\n",
    "- Email spam detection (spam or not).\n",
    "- Churn prediction (churn or not).\n",
    "- Conversion prediction (buy or not)."
   ]
  },
  {
   "cell_type": "markdown",
   "id": "44b3ee53",
   "metadata": {},
   "source": [
    "**2. Multi-class classification** refers to those classification tasks that have more than two class labels."
   ]
  },
  {
   "cell_type": "markdown",
   "id": "3e69dc33",
   "metadata": {},
   "source": [
    "Examples include:\n",
    "\n",
    "- Face classification.\n",
    "- Plant species classification.\n",
    "- Optical character recognition."
   ]
  },
  {
   "cell_type": "markdown",
   "id": "b6e059e1",
   "metadata": {},
   "source": [
    "**3. Multi-label classification** refers to those classification tasks that have two or more class labels, where one or more class labels may be predicted for each example."
   ]
  },
  {
   "cell_type": "markdown",
   "id": "80797aae",
   "metadata": {},
   "source": [
    "Consider the example of photo classification, where a given photo may have multiple objects in the scene and a model may predict the presence of multiple known objects in the photo, such as “bicycle,” “apple,” “person,” etc.\n",
    "\n",
    "This is unlike binary classification and multi-class classification, where a single class label is predicted for each example."
   ]
  },
  {
   "cell_type": "markdown",
   "id": "a6c907fb",
   "metadata": {},
   "source": [
    "**4. Imbalanced classification** refers to classification tasks where the number of examples in each class is unequally distributed.\n",
    "\n",
    "Typically, imbalanced classification tasks are binary classification tasks where the majority of examples in the training dataset belong to the normal class and a minority of examples belong to the abnormal class."
   ]
  },
  {
   "cell_type": "markdown",
   "id": "77127e84",
   "metadata": {},
   "source": [
    "Examples include:\n",
    "\n",
    "- Fraud detection.\n",
    "- Outlier detection.\n",
    "- Medical diagnostic tests."
   ]
  },
  {
   "cell_type": "markdown",
   "id": "57c970b0",
   "metadata": {},
   "source": [
    "---"
   ]
  },
  {
   "cell_type": "markdown",
   "id": "a4993d1c",
   "metadata": {},
   "source": [
    "# What is logistic regression?"
   ]
  },
  {
   "cell_type": "markdown",
   "id": "cf2473f0",
   "metadata": {},
   "source": [
    "logit = \"log odds\""
   ]
  },
  {
   "cell_type": "markdown",
   "id": "c7a8b740",
   "metadata": {},
   "source": [
    "odds = P(event) / 1 - P(event)"
   ]
  },
  {
   "cell_type": "markdown",
   "id": "0effd513",
   "metadata": {},
   "source": [
    "Logistic regression is an example of supervised learning. It is used to calculate or predict the probability of a binary (yes/no) event occurring. An example of logistic regression could be applying machine learning to determine if a person is likely to be infected with COVID-19 or not. Since we have two possible outcomes to this question - yes they are infected, or no they are not infected - this is called binary classification."
   ]
  },
  {
   "cell_type": "markdown",
   "id": "ca5c2ada",
   "metadata": {},
   "source": [
    "![https://ecm.capitalone.com/WCM/tech/logistic-regression-for-ml-1.png](https://ecm.capitalone.com/WCM/tech/logistic-regression-for-ml-1.png)"
   ]
  },
  {
   "cell_type": "markdown",
   "id": "3abc51f2",
   "metadata": {},
   "source": [
    "![https://static.javatpoint.com/tutorial/machine-learning/images/logistic-regression-in-machine-learning.png](https://static.javatpoint.com/tutorial/machine-learning/images/logistic-regression-in-machine-learning.png)"
   ]
  },
  {
   "cell_type": "markdown",
   "id": "cdd4ee61",
   "metadata": {},
   "source": [
    "# Linear Regression Vs. Logistic Regression"
   ]
  },
  {
   "cell_type": "markdown",
   "id": "71844a30",
   "metadata": {},
   "source": [
    "Linear regression gives you a continuous output, but logistic regression provides a constant output. An example of the continuous output is house price and stock price. Example's of the discrete output is predicting whether a patient has cancer or not, predicting whether the customer will churn. Linear regression is estimated using Ordinary Least Squares (OLS) while logistic regression is estimated using Maximum Likelihood Estimation (MLE) approach."
   ]
  },
  {
   "cell_type": "markdown",
   "id": "92dab299",
   "metadata": {},
   "source": [
    "![https://res.cloudinary.com/dyd911kmh/image/upload/v1660054820/Regression_charts_b9de7355cf.png](https://res.cloudinary.com/dyd911kmh/image/upload/v1660054820/Regression_charts_b9de7355cf.png)"
   ]
  },
  {
   "cell_type": "markdown",
   "id": "46bf0a2b",
   "metadata": {},
   "source": [
    "# Maximum Likelihood Estimation Vs. Least Square Method"
   ]
  },
  {
   "cell_type": "markdown",
   "id": "c6375e0c",
   "metadata": {},
   "source": [
    "There are many ways to estimate the parameters. There are two frameworks that are the most common; they are:\n",
    "\n",
    "- Least Squares Optimization (iteratively reweighted least squares).\n",
    "- Maximum Likelihood Estimation.\n",
    "\n",
    "Both are optimization procedures that involve searching for different model parameters.\n",
    "\n",
    "Maximum Likelihood Estimation is a frequentist probabilistic framework that seeks a set of parameters for the model that maximizes a likelihood function. We will take a closer look at this second approach in the subsequent sections."
   ]
  },
  {
   "cell_type": "markdown",
   "id": "b70b559d",
   "metadata": {},
   "source": [
    "The MLE is a \"likelihood\" maximization method, while OLS is a distance-minimizing approximation method. Maximizing the likelihood function determines the parameters that are most likely to produce the observed data. From a statistical point of view, MLE sets the mean and variance as parameters in determining the specific parametric values for a given model. This set of parameters can be used for predicting the data needed in a normal distribution. Ordinary Least squares estimates are computed by fitting a regression line on given data points that has the minimum sum of the squared deviations (least square error). Both are used to estimate the parameters of a linear regression model. MLE assumes a joint probability mass function, while OLS doesn't require any stochastic assumptions for minimizing distance."
   ]
  },
  {
   "cell_type": "markdown",
   "id": "37f3a779",
   "metadata": {},
   "source": [
    "**likelihood = yhat * y + (1 – yhat) * (1 – y)**"
   ]
  },
  {
   "cell_type": "markdown",
   "id": "7d4c5590",
   "metadata": {},
   "source": [
    "![https://miro.medium.com/max/720/1*t4zrihvhtlZJZsvcX3jRjg.png](https://miro.medium.com/max/720/1*t4zrihvhtlZJZsvcX3jRjg.png)"
   ]
  },
  {
   "cell_type": "markdown",
   "id": "522961be",
   "metadata": {},
   "source": [
    "# Sigmoid Function\n",
    "The sigmoid function, also called logistic function gives an ‘S’ shaped curve that can take any real-valued number and map it into a value between 0 and 1. If the curve goes to positive infinity, y predicted will become 1, and if the curve goes to negative infinity, y predicted will become 0. If the output of the sigmoid function is more than 0.5, we can classify the outcome as 1 or YES, and if it is less than 0.5, we can classify it as 0 or NO. The outputcannotFor example: If the output is 0.75, we can say in terms of probability as: There is a 75 percent chance that a patient will suffer from cancer.\n",
    "        \n",
    "![https://res.cloudinary.com/dyd911kmh/image/upload/v1660054820/eq4_e726ae901a.png](https://res.cloudinary.com/dyd911kmh/image/upload/v1660054820/eq4_e726ae901a.png)\n",
    "\n",
    "![https://res.cloudinary.com/dyd911kmh/image/upload/v1660054820/Line_graph_0672f6583d.png](https://res.cloudinary.com/dyd911kmh/image/upload/v1660054820/Line_graph_0672f6583d.png)"
   ]
  },
  {
   "cell_type": "markdown",
   "id": "053e2ecd",
   "metadata": {},
   "source": [
    "# Model building in Scikit-learn"
   ]
  },
  {
   "cell_type": "code",
   "execution_count": 2,
   "id": "e78034c0",
   "metadata": {},
   "outputs": [],
   "source": [
    "#import pandas\n",
    "import pandas as pd\n",
    "\n",
    "# load dataset\n",
    "pima = pd.read_csv(\"diabetes.csv\")"
   ]
  },
  {
   "cell_type": "code",
   "execution_count": 3,
   "id": "2b5244a3",
   "metadata": {},
   "outputs": [
    {
     "data": {
      "text/html": [
       "<div>\n",
       "<style scoped>\n",
       "    .dataframe tbody tr th:only-of-type {\n",
       "        vertical-align: middle;\n",
       "    }\n",
       "\n",
       "    .dataframe tbody tr th {\n",
       "        vertical-align: top;\n",
       "    }\n",
       "\n",
       "    .dataframe thead th {\n",
       "        text-align: right;\n",
       "    }\n",
       "</style>\n",
       "<table border=\"1\" class=\"dataframe\">\n",
       "  <thead>\n",
       "    <tr style=\"text-align: right;\">\n",
       "      <th></th>\n",
       "      <th>Pregnancies</th>\n",
       "      <th>Glucose</th>\n",
       "      <th>BloodPressure</th>\n",
       "      <th>SkinThickness</th>\n",
       "      <th>Insulin</th>\n",
       "      <th>BMI</th>\n",
       "      <th>DiabetesPedigreeFunction</th>\n",
       "      <th>Age</th>\n",
       "      <th>Outcome</th>\n",
       "    </tr>\n",
       "  </thead>\n",
       "  <tbody>\n",
       "    <tr>\n",
       "      <th>0</th>\n",
       "      <td>6</td>\n",
       "      <td>148</td>\n",
       "      <td>72</td>\n",
       "      <td>35</td>\n",
       "      <td>0</td>\n",
       "      <td>33.6</td>\n",
       "      <td>0.627</td>\n",
       "      <td>50</td>\n",
       "      <td>1</td>\n",
       "    </tr>\n",
       "    <tr>\n",
       "      <th>1</th>\n",
       "      <td>1</td>\n",
       "      <td>85</td>\n",
       "      <td>66</td>\n",
       "      <td>29</td>\n",
       "      <td>0</td>\n",
       "      <td>26.6</td>\n",
       "      <td>0.351</td>\n",
       "      <td>31</td>\n",
       "      <td>0</td>\n",
       "    </tr>\n",
       "    <tr>\n",
       "      <th>2</th>\n",
       "      <td>8</td>\n",
       "      <td>183</td>\n",
       "      <td>64</td>\n",
       "      <td>0</td>\n",
       "      <td>0</td>\n",
       "      <td>23.3</td>\n",
       "      <td>0.672</td>\n",
       "      <td>32</td>\n",
       "      <td>1</td>\n",
       "    </tr>\n",
       "    <tr>\n",
       "      <th>3</th>\n",
       "      <td>1</td>\n",
       "      <td>89</td>\n",
       "      <td>66</td>\n",
       "      <td>23</td>\n",
       "      <td>94</td>\n",
       "      <td>28.1</td>\n",
       "      <td>0.167</td>\n",
       "      <td>21</td>\n",
       "      <td>0</td>\n",
       "    </tr>\n",
       "    <tr>\n",
       "      <th>4</th>\n",
       "      <td>0</td>\n",
       "      <td>137</td>\n",
       "      <td>40</td>\n",
       "      <td>35</td>\n",
       "      <td>168</td>\n",
       "      <td>43.1</td>\n",
       "      <td>2.288</td>\n",
       "      <td>33</td>\n",
       "      <td>1</td>\n",
       "    </tr>\n",
       "  </tbody>\n",
       "</table>\n",
       "</div>"
      ],
      "text/plain": [
       "   Pregnancies  Glucose  BloodPressure  SkinThickness  Insulin   BMI  \\\n",
       "0            6      148             72             35        0  33.6   \n",
       "1            1       85             66             29        0  26.6   \n",
       "2            8      183             64              0        0  23.3   \n",
       "3            1       89             66             23       94  28.1   \n",
       "4            0      137             40             35      168  43.1   \n",
       "\n",
       "   DiabetesPedigreeFunction  Age  Outcome  \n",
       "0                     0.627   50        1  \n",
       "1                     0.351   31        0  \n",
       "2                     0.672   32        1  \n",
       "3                     0.167   21        0  \n",
       "4                     2.288   33        1  "
      ]
     },
     "execution_count": 3,
     "metadata": {},
     "output_type": "execute_result"
    }
   ],
   "source": [
    "pima.head()"
   ]
  },
  {
   "cell_type": "code",
   "execution_count": 4,
   "id": "281ad326",
   "metadata": {},
   "outputs": [],
   "source": [
    "#split dataset in features and target variable\n",
    "feature_cols = ['Pregnancies', 'Insulin', 'BMI', 'Age','Glucose','BloodPressure','DiabetesPedigreeFunction']\n",
    "X = pima[feature_cols] # Features\n",
    "y = pima.Outcome # Target variable"
   ]
  },
  {
   "cell_type": "code",
   "execution_count": 5,
   "id": "06866f21",
   "metadata": {},
   "outputs": [],
   "source": [
    "# split X and y into training and testing sets\n",
    "from sklearn.model_selection import train_test_split\n",
    "\n",
    "X_train, X_test, y_train, y_test = train_test_split(X, y, test_size=0.25, random_state=16)"
   ]
  },
  {
   "cell_type": "code",
   "execution_count": 6,
   "id": "527d981a",
   "metadata": {},
   "outputs": [],
   "source": [
    "# import the class\n",
    "from sklearn.linear_model import LogisticRegression\n",
    "\n",
    "# instantiate the model (using the default parameters)\n",
    "logreg = LogisticRegression(random_state=16)"
   ]
  },
  {
   "cell_type": "code",
   "execution_count": 7,
   "id": "9cd46e3b",
   "metadata": {},
   "outputs": [
    {
     "name": "stderr",
     "output_type": "stream",
     "text": [
      "/home/waheedabbas/Environments/cenv/lib/python3.10/site-packages/sklearn/linear_model/_logistic.py:444: ConvergenceWarning: lbfgs failed to converge (status=1):\n",
      "STOP: TOTAL NO. of ITERATIONS REACHED LIMIT.\n",
      "\n",
      "Increase the number of iterations (max_iter) or scale the data as shown in:\n",
      "    https://scikit-learn.org/stable/modules/preprocessing.html\n",
      "Please also refer to the documentation for alternative solver options:\n",
      "    https://scikit-learn.org/stable/modules/linear_model.html#logistic-regression\n",
      "  n_iter_i = _check_optimize_result(\n"
     ]
    }
   ],
   "source": [
    "# fit the model with data\n",
    "logreg.fit(X_train, y_train)\n",
    "\n",
    "y_pred = logreg.predict(X_test)"
   ]
  },
  {
   "cell_type": "markdown",
   "id": "a53a9b69",
   "metadata": {},
   "source": [
    "## Model Evaluation using Confusion Matrix"
   ]
  },
  {
   "cell_type": "markdown",
   "id": "20f7eb3f",
   "metadata": {},
   "source": [
    "Well, A confusion matrix is a performance measurement for machine learning classification problem where output can be two or more classes. It is a table with 4 different combinations of predicted and actual values."
   ]
  },
  {
   "cell_type": "markdown",
   "id": "d1d687bb",
   "metadata": {},
   "source": [
    "![https://miro.medium.com/max/640/1*Z54JgbS4DUwWSknhDCvNTQ.png](https://miro.medium.com/max/640/1*Z54JgbS4DUwWSknhDCvNTQ.png)"
   ]
  },
  {
   "cell_type": "markdown",
   "id": "26934b48",
   "metadata": {},
   "source": [
    "it is extremely useful for measuring Recall, Precision, Specificity, Accuracy, and most importantly AUC-ROC curves.\n",
    "\n",
    "Let’s understand TP, FP, FN, TN in terms of pregnancy analogy."
   ]
  },
  {
   "cell_type": "markdown",
   "id": "e45a4636",
   "metadata": {},
   "source": [
    "![https://miro.medium.com/max/640/1*7EYylA6XlXSGBCF77j_rOA.png](https://miro.medium.com/max/640/1*7EYylA6XlXSGBCF77j_rOA.png)"
   ]
  },
  {
   "cell_type": "markdown",
   "id": "b635c806",
   "metadata": {},
   "source": [
    "**True Positive:**\n",
    "\n",
    "Interpretation: You predicted positive and it’s true.\n",
    "\n",
    "You predicted that a woman is pregnant and she actually is.\n",
    "\n",
    "**True Negative:**\n",
    "\n",
    "Interpretation: You predicted negative and it’s true.\n",
    "\n",
    "You predicted that a man is not pregnant and he actually is not.\n",
    "\n",
    "**False Positive: (Type 1 Error)**\n",
    "\n",
    "Interpretation: You predicted positive and it’s false.\n",
    "\n",
    "You predicted that a man is pregnant but he actually is not.\n",
    "\n",
    "**False Negative: (Type 2 Error)**\n",
    "\n",
    "Interpretation: You predicted negative and it’s false.\n",
    "\n",
    "You predicted that a woman is not pregnant but she actually is.\n",
    "\n",
    "Just Remember, We describe predicted values as Positive and Negative and actual values as True and False."
   ]
  },
  {
   "cell_type": "code",
   "execution_count": 8,
   "id": "f410decb",
   "metadata": {},
   "outputs": [
    {
     "data": {
      "text/plain": [
       "array([[115,  10],\n",
       "       [ 25,  42]])"
      ]
     },
     "execution_count": 8,
     "metadata": {},
     "output_type": "execute_result"
    }
   ],
   "source": [
    "# import the metrics class\n",
    "from sklearn import metrics\n",
    "\n",
    "cnf_matrix = metrics.confusion_matrix(y_test, y_pred)\n",
    "cnf_matrix"
   ]
  },
  {
   "cell_type": "markdown",
   "id": "d93fa098",
   "metadata": {},
   "source": [
    "Here, you can see the confusion matrix in the form of the array object. The dimension of this matrix is 2*2 because this model is binary classification. You have two classes 0 and 1. Diagonal values represent accurate predictions, while non-diagonal elements are inaccurate predictions. In the output, 115 and 39 are actual predictions, and 30 and 8 are incorrect predictions."
   ]
  },
  {
   "cell_type": "code",
   "execution_count": 9,
   "id": "cf0c29f3",
   "metadata": {},
   "outputs": [
    {
     "data": {
      "text/plain": [
       "Text(0.5, 427.9555555555555, 'Predicted label')"
      ]
     },
     "execution_count": 9,
     "metadata": {},
     "output_type": "execute_result"
    },
    {
     "data": {
      "image/png": "[encoded data removed]",
      "text/plain": [
       "<Figure size 640x480 with 2 Axes>"
      ]
     },
     "metadata": {},
     "output_type": "display_data"
    }
   ],
   "source": [
    "# import required modules\n",
    "import numpy as np\n",
    "import matplotlib.pyplot as plt\n",
    "import seaborn as sns\n",
    "\n",
    "class_names=[0,1] # name  of classes\n",
    "fig, ax = plt.subplots()\n",
    "tick_marks = np.arange(len(class_names))\n",
    "plt.xticks(tick_marks, class_names)\n",
    "plt.yticks(tick_marks, class_names)\n",
    "# create heatmap\n",
    "sns.heatmap(pd.DataFrame(cnf_matrix), annot=True, cmap=\"YlGnBu\" ,fmt='g')\n",
    "ax.xaxis.set_label_position(\"top\")\n",
    "plt.tight_layout()\n",
    "plt.title('Confusion matrix', y=1.1)\n",
    "plt.ylabel('Actual label')\n",
    "plt.xlabel('Predicted label')"
   ]
  },
  {
   "cell_type": "markdown",
   "id": "66633bec",
   "metadata": {},
   "source": [
    "![https://www.tutorialexample.com/wp-content/uploads/2022/01/how-to-compute-accuracy-precision-recall-and-f1-score-in-machine-learning.png](https://www.tutorialexample.com/wp-content/uploads/2022/01/how-to-compute-accuracy-precision-recall-and-f1-score-in-machine-learning.png)"
   ]
  },
  {
   "cell_type": "code",
   "execution_count": 10,
   "id": "021e891b",
   "metadata": {},
   "outputs": [
    {
     "name": "stdout",
     "output_type": "stream",
     "text": [
      "Accuracy: 81.77083333333334\n"
     ]
    }
   ],
   "source": [
    "print('Accuracy:', metrics.accuracy_score(y_test, y_pred)*100)"
   ]
  },
  {
   "cell_type": "code",
   "execution_count": 11,
   "id": "74f4d900",
   "metadata": {},
   "outputs": [
    {
     "name": "stdout",
     "output_type": "stream",
     "text": [
      "Precision: 80.76923076923077\n"
     ]
    }
   ],
   "source": [
    "print('Precision:', metrics.precision_score(y_test, y_pred)*100)"
   ]
  },
  {
   "cell_type": "code",
   "execution_count": 12,
   "id": "54b0764d",
   "metadata": {},
   "outputs": [
    {
     "name": "stdout",
     "output_type": "stream",
     "text": [
      "Recall: 62.68656716417911\n"
     ]
    }
   ],
   "source": [
    "print('Recall:', metrics.recall_score(y_test, y_pred)*100)"
   ]
  },
  {
   "cell_type": "code",
   "execution_count": 13,
   "id": "6b54d7e8",
   "metadata": {},
   "outputs": [
    {
     "name": "stdout",
     "output_type": "stream",
     "text": [
      "F1: 70.58823529411765\n"
     ]
    }
   ],
   "source": [
    "print('F1:', metrics.f1_score(y_test, y_pred)*100)"
   ]
  },
  {
   "cell_type": "code",
   "execution_count": 14,
   "id": "3fd45724",
   "metadata": {},
   "outputs": [
    {
     "name": "stdout",
     "output_type": "stream",
     "text": [
      "                  precision    recall  f1-score   support\n",
      "\n",
      "without diabetes       0.82      0.92      0.87       125\n",
      "   with diabetes       0.81      0.63      0.71        67\n",
      "\n",
      "        accuracy                           0.82       192\n",
      "       macro avg       0.81      0.77      0.79       192\n",
      "    weighted avg       0.82      0.82      0.81       192\n",
      "\n"
     ]
    }
   ],
   "source": [
    "from sklearn.metrics import classification_report\n",
    "target_names = ['without diabetes', 'with diabetes']\n",
    "print(classification_report(y_test, y_pred, target_names=target_names))"
   ]
  },
  {
   "cell_type": "markdown",
   "id": "903532a0",
   "metadata": {},
   "source": [
    "Rate is a measure factor in a confusion matrix. It has also 4 type TPR, FPR, TNR, FNR\n",
    "\n",
    "- **True Positive Rate(TPR):** True Positive / Positive\n",
    "\n",
    "- **False Positive Rate(FPR):** False Positive / Negative\n",
    "\n",
    "- **False Negative Rate(FNR):** False Negative / Positive\n",
    "\n",
    "- **True Negative Rate(TNR):** True Negative / Negative\n",
    "\n",
    "For better performance, TPR, TNR should be high and FNR, FPR should be low."
   ]
  },
  {
   "cell_type": "code",
   "execution_count": 15,
   "id": "3b39f717",
   "metadata": {},
   "outputs": [],
   "source": [
    "TP = cnf_matrix[1][1]\n",
    "TN = cnf_matrix[0][0]\n",
    "FP = cnf_matrix[0][1]\n",
    "FN = cnf_matrix[1][0]"
   ]
  },
  {
   "cell_type": "code",
   "execution_count": 16,
   "id": "706af042",
   "metadata": {},
   "outputs": [
    {
     "data": {
      "text/plain": [
       "0    125\n",
       "1     67\n",
       "Name: Outcome, dtype: int64"
      ]
     },
     "execution_count": 16,
     "metadata": {},
     "output_type": "execute_result"
    }
   ],
   "source": [
    "y_test.value_counts()"
   ]
  },
  {
   "cell_type": "code",
   "execution_count": 17,
   "id": "51a823f4",
   "metadata": {},
   "outputs": [],
   "source": [
    "TPR = TP/67*100\n",
    "TNR = TN/125*100\n",
    "FPR = FP/67*100\n",
    "FNR = FN/125*100"
   ]
  },
  {
   "cell_type": "code",
   "execution_count": 18,
   "id": "9780d367",
   "metadata": {},
   "outputs": [
    {
     "data": {
      "text/plain": [
       "(62.68656716417911, 92.0, 14.925373134328357, 20.0)"
      ]
     },
     "execution_count": 18,
     "metadata": {},
     "output_type": "execute_result"
    }
   ],
   "source": [
    "TPR, TNR, FPR, FNR"
   ]
  },
  {
   "cell_type": "markdown",
   "id": "4be13588",
   "metadata": {},
   "source": [
    "## ROC curve"
   ]
  },
  {
   "cell_type": "markdown",
   "id": "7470d5fb",
   "metadata": {},
   "source": [
    "ROC curves were first employed during World War 2 to analyze radar signals: After missing the Japanese aircraft that carried out the attack on Pearl Harbor, the US wanted their radar receiver operators to better identify aircraft from signal noise (e.g. clouds). The operator's ability to identify as many true positives as possible while minimizing false positives was named the Receiver Operating Characteristic, and the curve analyzing their predictive abilities was called the ROC Curve. Today, ROC curves are used in a number of contexts, including clinical settings (to assess the diagnostic accuracy of a test) and machine learning (the focus of this article)."
   ]
  },
  {
   "cell_type": "markdown",
   "id": "63d85496",
   "metadata": {},
   "source": [
    "An ROC curve (receiver operating characteristic curve) is a graph showing the performance of a classification model at all classification thresholds. This curve plots two parameters:"
   ]
  },
  {
   "cell_type": "markdown",
   "id": "ce1b914f",
   "metadata": {},
   "source": [
    "An ROC curve plots TPR vs. FPR at different classification thresholds. Lowering the classification threshold classifies more items as positive, thus increasing both False Positives and True Positives. The following figure shows a typical ROC curve."
   ]
  },
  {
   "cell_type": "markdown",
   "id": "e6c9f011",
   "metadata": {},
   "source": [
    "![https://developers.google.com/static/machine-learning/crash-course/images/ROCCurve.svg](https://developers.google.com/static/machine-learning/crash-course/images/ROCCurve.svg)\n",
    "\n",
    "**Above image showing TP vs. FP rate at different classification thresholds.**"
   ]
  },
  {
   "cell_type": "markdown",
   "id": "4966defe",
   "metadata": {},
   "source": [
    "To compute the points in an ROC curve, we could evaluate a model many times with different classification thresholds, but this would be inefficient. Fortunately, there's an efficient, sorting-based algorithm that can provide this information for us, called AUC."
   ]
  },
  {
   "cell_type": "markdown",
   "id": "f62e590f",
   "metadata": {},
   "source": [
    "The ROC Curve is valuable not only because it gives us an overview of our model's performance (and lets us select an optimal classification threshold for that model), but because it also gives us an easy visual to compare the performance of different classifiers to one another."
   ]
  },
  {
   "cell_type": "markdown",
   "id": "1e2105fa",
   "metadata": {},
   "source": [
    "![ROC.png](ROC.png)"
   ]
  },
  {
   "cell_type": "markdown",
   "id": "b5838c65",
   "metadata": {},
   "source": [
    "A perfect classifier is one that hugs along the outer-left and top of the chart. This is expected, as ‘perfect’ here implies the classifier will always have a TPR=1, regardless of the FPR. On the other hand, a diagonal line implies that TPR=FPR for every classification threshold - in other words, the classifier is just making random guesses. The model is garbage!"
   ]
  },
  {
   "cell_type": "markdown",
   "id": "406887b5",
   "metadata": {},
   "source": [
    "## AUC: Area Under the ROC Curve"
   ]
  },
  {
   "cell_type": "markdown",
   "id": "0a6ed2cb",
   "metadata": {},
   "source": [
    "AUC (sometimes written AUROC) is just the area underneath the entire ROC curve. Think integration from calculus. AUC provides us with a nice, single measure of performance for our classifiers, independent of the exact classification threshold chosen. This allows us to compare models to each other without even looking at their ROC curves (though visualizing the performance of your models is never a bad idea!).\n",
    "\n",
    "AUC ranges in value from 0 to 1, with higher numbers indicating better performance. A perfect classifier will have an AUC of 1, while a perfectly random classifier an AUC of 0.5. A model that always predicts that a negative sample is more likely to have a positive label than a positive sample will have AUC of 0, indicating severe failure on the modeling side. Scores in the range [0.5, 1] imply good performance, while anything under 0.5 indicates very poor performance."
   ]
  },
  {
   "cell_type": "markdown",
   "id": "65b3ce33",
   "metadata": {},
   "source": [
    "![roc_auc.png](roc_auc.png)"
   ]
  },
  {
   "cell_type": "code",
   "execution_count": 152,
   "id": "8a25f7e2",
   "metadata": {},
   "outputs": [
    {
     "data": {
      "text/plain": [
       "0.7734328358208956"
      ]
     },
     "execution_count": 152,
     "metadata": {},
     "output_type": "execute_result"
    }
   ],
   "source": [
    "metrics.roc_auc_score(y_test, y_pred)"
   ]
  },
  {
   "cell_type": "markdown",
   "id": "34e1ef08",
   "metadata": {},
   "source": [
    "At 0.77, our model's AUC isn't too shabby:"
   ]
  },
  {
   "cell_type": "markdown",
   "id": "779685b8",
   "metadata": {},
   "source": [
    "The AUC is the probability that the model will rank a randomly chosen positive example more highly than a randomly chosen negative example."
   ]
  },
  {
   "cell_type": "markdown",
   "id": "9416da3d",
   "metadata": {},
   "source": [
    "**Learning Resources:**"
   ]
  },
  {
   "cell_type": "markdown",
   "id": "9c6be0b4",
   "metadata": {},
   "source": [
    "https://machinelearningmastery.com/logistic-regression-with-maximum-likelihood-estimation/"
   ]
  },
  {
   "cell_type": "markdown",
   "id": "f25e9ebc",
   "metadata": {},
   "source": [
    "https://mlu-explain.github.io/roc-auc/"
   ]
  },
  {
   "cell_type": "code",
   "execution_count": null,
   "id": "a7623799",
   "metadata": {},
   "outputs": [],
   "source": []
  }
 ],
 "metadata": {
  "kernelspec": {
   "display_name": "Python 3 (ipykernel)",
   "language": "python",
   "name": "python3"
  },
  "language_info": {
   "codemirror_mode": {
    "name": "ipython",
    "version": 3
   },
   "file_extension": ".py",
   "mimetype": "text/x-python",
   "name": "python",
   "nbconvert_exporter": "python",
   "pygments_lexer": "ipython3",
   "version": "3.10.4"
  }
 },
 "nbformat": 4,
 "nbformat_minor": 5
}
