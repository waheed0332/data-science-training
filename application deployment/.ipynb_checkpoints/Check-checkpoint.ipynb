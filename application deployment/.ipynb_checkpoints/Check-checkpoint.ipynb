{
 "cells": [
  {
   "cell_type": "code",
   "execution_count": 1,
   "id": "ce2dc09a",
   "metadata": {},
   "outputs": [],
   "source": [
    "import pandas as pd"
   ]
  },
  {
   "cell_type": "code",
   "execution_count": 3,
   "id": "1b6c574f",
   "metadata": {},
   "outputs": [],
   "source": [
    "le_sex = pd.read_pickle('Sex.pkl')\n",
    "le_embarked = pd.read_pickle('Embarked.pkl')\n",
    "le_initial = pd.read_pickle('Initial.pkl')"
   ]
  },
  {
   "cell_type": "code",
   "execution_count": 17,
   "id": "f38d9b1a",
   "metadata": {},
   "outputs": [],
   "source": [
    "model = pd.read_pickle('RF_.pkl')"
   ]
  },
  {
   "cell_type": "code",
   "execution_count": 19,
   "id": "3f7e4de3",
   "metadata": {},
   "outputs": [],
   "source": [
    "# Pclass\tSex\tAge\tSibSp\tParch\tFare\tCabin\tEmbarked\tInitial"
   ]
  },
  {
   "cell_type": "code",
   "execution_count": 22,
   "id": "ffe7ff4a",
   "metadata": {},
   "outputs": [
    {
     "data": {
      "text/plain": [
       "1"
      ]
     },
     "execution_count": 22,
     "metadata": {},
     "output_type": "execute_result"
    }
   ],
   "source": [
    "# array([3, 1, 22.0, 1, 0, 7.25, False, 2, 2], dtype=object)"
   ]
  },
  {
   "cell_type": "code",
   "execution_count": 33,
   "id": "7baf1d33",
   "metadata": {},
   "outputs": [
    {
     "data": {
      "text/plain": [
       "array([0])"
      ]
     },
     "execution_count": 33,
     "metadata": {},
     "output_type": "execute_result"
    }
   ],
   "source": [
    "model.predict([[3, le_sex.transform(['male'])[0], 25, 1, 2, 7.25, True, le_embarked.transform(['S'])[0], le_initial.transform(['Mr'])[0]]])"
   ]
  },
  {
   "cell_type": "code",
   "execution_count": 34,
   "id": "02cce073",
   "metadata": {},
   "outputs": [
    {
     "data": {
      "text/plain": [
       "array([[0.852, 0.148]])"
      ]
     },
     "execution_count": 34,
     "metadata": {},
     "output_type": "execute_result"
    }
   ],
   "source": [
    "model.predict_proba([[3, le_sex.transform(['male'])[0], 25, 1, 2, 7.25, True, le_embarked.transform(['S'])[0], le_initial.transform(['Mr'])[0]]])"
   ]
  },
  {
   "cell_type": "code",
   "execution_count": null,
   "id": "92ad6bb2",
   "metadata": {},
   "outputs": [],
   "source": []
  }
 ],
 "metadata": {
  "kernelspec": {
   "display_name": "Python 3 (ipykernel)",
   "language": "python",
   "name": "python3"
  },
  "language_info": {
   "codemirror_mode": {
    "name": "ipython",
    "version": 3
   },
   "file_extension": ".py",
   "mimetype": "text/x-python",
   "name": "python",
   "nbconvert_exporter": "python",
   "pygments_lexer": "ipython3",
   "version": "3.10.6"
  }
 },
 "nbformat": 4,
 "nbformat_minor": 5
}
