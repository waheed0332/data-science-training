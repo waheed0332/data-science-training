{
 "cells": [
  {
   "cell_type": "markdown",
   "id": "0f15e0e7",
   "metadata": {},
   "source": [
    "https://www.analyticsvidhya.com/blog/2019/08/comprehensive-guide-k-means-clustering/"
   ]
  },
  {
   "cell_type": "markdown",
   "id": "b2db0c5d",
   "metadata": {},
   "source": [
    "https://realpython.com/k-means-clustering-python/"
   ]
  }
 ],
 "metadata": {
  "kernelspec": {
   "display_name": "Python 3 (ipykernel)",
   "language": "python",
   "name": "python3"
  },
  "language_info": {
   "codemirror_mode": {
    "name": "ipython",
    "version": 3
   },
   "file_extension": ".py",
   "mimetype": "text/x-python",
   "name": "python",
   "nbconvert_exporter": "python",
   "pygments_lexer": "ipython3",
   "version": "3.10.4"
  }
 },
 "nbformat": 4,
 "nbformat_minor": 5
}
